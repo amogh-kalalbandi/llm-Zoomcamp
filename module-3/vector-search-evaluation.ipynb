{
 "cells": [
  {
   "cell_type": "code",
   "execution_count": 1,
   "id": "c3260496-f3f4-44f3-8dd1-e05534a20461",
   "metadata": {},
   "outputs": [
    {
     "name": "stderr",
     "output_type": "stream",
     "text": [
      "/Users/amoghkulkarni/.local/share/virtualenvs/python_practice-ZCCdr_2d/lib/python3.9/site-packages/urllib3/__init__.py:35: NotOpenSSLWarning: urllib3 v2 only supports OpenSSL 1.1.1+, currently the 'ssl' module is compiled with 'LibreSSL 2.8.3'. See: https://github.com/urllib3/urllib3/issues/3020\n",
      "  warnings.warn(\n"
     ]
    }
   ],
   "source": [
    "import pandas as pd\n",
    "import json\n",
    "from elasticsearch import Elasticsearch"
   ]
  },
  {
   "cell_type": "code",
   "execution_count": 2,
   "id": "637dbca4-2a13-444a-9cf8-d4315f71bac8",
   "metadata": {},
   "outputs": [],
   "source": [
    "with open('documents-with-ids.json', 'rt') as f_in:\n",
    "    documents = json.load(f_in)"
   ]
  },
  {
   "cell_type": "code",
   "execution_count": 3,
   "id": "f8dbcd82-14e4-4715-8a10-fd9fa8607fa6",
   "metadata": {},
   "outputs": [],
   "source": [
    "from sentence_transformers import SentenceTransformer"
   ]
  },
  {
   "cell_type": "code",
   "execution_count": 4,
   "id": "b4ffce30-8663-4306-86fb-27a9f02cd845",
   "metadata": {},
   "outputs": [],
   "source": [
    "model_name = 'multi-qa-MiniLM-L6-cos-v1'"
   ]
  },
  {
   "cell_type": "code",
   "execution_count": 6,
   "id": "282b251e-a0ef-4bdc-83a8-2f7911b01b1b",
   "metadata": {},
   "outputs": [
    {
     "data": {
      "application/vnd.jupyter.widget-view+json": {
       "model_id": "4c2d2d503a0848f1a5194e75fefd89f8",
       "version_major": 2,
       "version_minor": 0
      },
      "text/plain": [
       "modules.json:   0%|          | 0.00/349 [00:00<?, ?B/s]"
      ]
     },
     "metadata": {},
     "output_type": "display_data"
    },
    {
     "data": {
      "application/vnd.jupyter.widget-view+json": {
       "model_id": "8bea7dc753cf4df79a8569248646af07",
       "version_major": 2,
       "version_minor": 0
      },
      "text/plain": [
       "config_sentence_transformers.json:   0%|          | 0.00/116 [00:00<?, ?B/s]"
      ]
     },
     "metadata": {},
     "output_type": "display_data"
    },
    {
     "data": {
      "application/vnd.jupyter.widget-view+json": {
       "model_id": "e7e3d4c26dab4b9ea0a3b9d4c36e661f",
       "version_major": 2,
       "version_minor": 0
      },
      "text/plain": [
       "README.md:   0%|          | 0.00/11.6k [00:00<?, ?B/s]"
      ]
     },
     "metadata": {},
     "output_type": "display_data"
    },
    {
     "data": {
      "application/vnd.jupyter.widget-view+json": {
       "model_id": "1ff1c5a10f4d4ad6aa2ce1cb75602c16",
       "version_major": 2,
       "version_minor": 0
      },
      "text/plain": [
       "sentence_bert_config.json:   0%|          | 0.00/53.0 [00:00<?, ?B/s]"
      ]
     },
     "metadata": {},
     "output_type": "display_data"
    },
    {
     "data": {
      "application/vnd.jupyter.widget-view+json": {
       "model_id": "25e735c540ef43988dbbd8862386cd65",
       "version_major": 2,
       "version_minor": 0
      },
      "text/plain": [
       "config.json:   0%|          | 0.00/612 [00:00<?, ?B/s]"
      ]
     },
     "metadata": {},
     "output_type": "display_data"
    },
    {
     "data": {
      "application/vnd.jupyter.widget-view+json": {
       "model_id": "06384ed509624c06b302c1f49b5178d3",
       "version_major": 2,
       "version_minor": 0
      },
      "text/plain": [
       "model.safetensors:   0%|          | 0.00/90.9M [00:00<?, ?B/s]"
      ]
     },
     "metadata": {},
     "output_type": "display_data"
    },
    {
     "data": {
      "application/vnd.jupyter.widget-view+json": {
       "model_id": "08c88e22e2cb4185bd146a5710731c04",
       "version_major": 2,
       "version_minor": 0
      },
      "text/plain": [
       "tokenizer_config.json:   0%|          | 0.00/383 [00:00<?, ?B/s]"
      ]
     },
     "metadata": {},
     "output_type": "display_data"
    },
    {
     "data": {
      "application/vnd.jupyter.widget-view+json": {
       "model_id": "c53b7c3c40c3470d9e6a6bf5d7be5e7a",
       "version_major": 2,
       "version_minor": 0
      },
      "text/plain": [
       "vocab.txt:   0%|          | 0.00/232k [00:00<?, ?B/s]"
      ]
     },
     "metadata": {},
     "output_type": "display_data"
    },
    {
     "data": {
      "application/vnd.jupyter.widget-view+json": {
       "model_id": "fbce55853ac84fa8ba3cfbbfd195f1f7",
       "version_major": 2,
       "version_minor": 0
      },
      "text/plain": [
       "tokenizer.json:   0%|          | 0.00/466k [00:00<?, ?B/s]"
      ]
     },
     "metadata": {},
     "output_type": "display_data"
    },
    {
     "data": {
      "application/vnd.jupyter.widget-view+json": {
       "model_id": "99664d802f1c4b6a926e6c01c63315c2",
       "version_major": 2,
       "version_minor": 0
      },
      "text/plain": [
       "special_tokens_map.json:   0%|          | 0.00/112 [00:00<?, ?B/s]"
      ]
     },
     "metadata": {},
     "output_type": "display_data"
    },
    {
     "data": {
      "application/vnd.jupyter.widget-view+json": {
       "model_id": "7c98f11585b34ba38aa7a00a69c0a91e",
       "version_major": 2,
       "version_minor": 0
      },
      "text/plain": [
       "1_Pooling/config.json:   0%|          | 0.00/190 [00:00<?, ?B/s]"
      ]
     },
     "metadata": {},
     "output_type": "display_data"
    }
   ],
   "source": [
    "model = SentenceTransformer(model_name)"
   ]
  },
  {
   "cell_type": "code",
   "execution_count": 7,
   "id": "29400df3-b2e3-4d86-925a-2be97f4a8002",
   "metadata": {},
   "outputs": [],
   "source": [
    "v = model.encode('I just discovered the course. Can I still join it?')"
   ]
  },
  {
   "cell_type": "code",
   "execution_count": 39,
   "id": "6b65a0f4-e801-4d01-88ea-08f86c8a31f8",
   "metadata": {},
   "outputs": [
    {
     "data": {
      "text/plain": [
       "array([ 1.76149048e-02, -4.11324985e-02, -1.86437182e-02,  3.38303787e-03,\n",
       "        3.42942253e-02,  4.63595465e-02, -7.58891553e-02, -6.14615157e-02,\n",
       "       -6.74187988e-02, -2.43898854e-02, -1.31267710e-02,  6.47082701e-02,\n",
       "        2.51723938e-02,  6.61561415e-02,  5.74242510e-02, -5.76662757e-02,\n",
       "       -1.01838566e-01, -3.80568355e-02,  8.85190815e-03, -2.22334801e-03,\n",
       "       -1.45974621e-01,  4.60105576e-02, -3.27741876e-02,  4.28988636e-02,\n",
       "        4.11894545e-02, -4.12428081e-02,  3.89968865e-02, -9.35932156e-03,\n",
       "        1.78948082e-02, -3.18374150e-02, -2.50403024e-03,  9.68545303e-03,\n",
       "        1.55836716e-02,  4.38631475e-02,  3.93178267e-03,  2.77108978e-02,\n",
       "        2.76587787e-03, -5.23474887e-02,  6.36799959e-03,  1.12894634e-02,\n",
       "       -1.66700892e-02, -4.24623415e-02,  4.98248124e-03,  3.54115851e-02,\n",
       "        4.26928736e-02,  6.29353225e-02, -1.76142622e-02, -7.38580152e-02,\n",
       "        3.98311950e-02,  8.52346048e-02,  1.04327463e-02, -1.14520602e-01,\n",
       "       -1.59268454e-02, -2.40066405e-02, -2.19631530e-02,  1.60266712e-01,\n",
       "       -1.23912189e-02,  2.13631894e-02, -1.03165597e-01,  6.88231140e-02,\n",
       "        1.05400300e-02, -1.60188284e-02, -4.71950956e-02,  9.30814072e-03,\n",
       "       -4.04344164e-02, -2.46046018e-03, -4.32146750e-02,  6.72250316e-02,\n",
       "        6.31208941e-02,  1.84811205e-02,  2.06569694e-02, -1.24419108e-02,\n",
       "        3.36882435e-02,  4.19928655e-02,  8.59921351e-02,  4.33366559e-02,\n",
       "        7.37984339e-03, -1.82142970e-03,  9.90376472e-02, -1.81587543e-02,\n",
       "       -2.57330649e-02,  8.45700949e-02, -8.07822123e-03,  1.59591287e-02,\n",
       "        2.18753591e-02, -4.00446393e-02,  2.04029698e-02,  1.58164985e-02,\n",
       "        6.35885447e-02, -2.95165237e-02,  1.48537578e-02, -4.49332260e-02,\n",
       "       -2.48859245e-02, -1.64941326e-02, -1.10271946e-02,  3.81365307e-02,\n",
       "        1.52464351e-02, -8.64763372e-03,  2.23709946e-03,  4.93728779e-02,\n",
       "       -6.91457465e-02,  4.93515395e-02, -3.75906155e-02, -3.43107656e-02,\n",
       "       -7.76831582e-02,  1.77105218e-02,  5.68747632e-02,  7.84317851e-02,\n",
       "        1.29469767e-01, -1.83993615e-02,  3.50294709e-02, -3.48361349e-03,\n",
       "        5.12880497e-02, -8.69032741e-03, -1.16804074e-02,  6.01999350e-02,\n",
       "       -5.86449318e-02,  6.00887313e-02,  4.47552875e-02, -3.93820927e-03,\n",
       "       -2.17082445e-02,  1.48929786e-02,  6.43521622e-02,  8.04063305e-03,\n",
       "       -5.46175800e-02, -1.08109534e-01, -2.61080898e-02,  1.56401536e-30,\n",
       "       -3.46488170e-02, -6.30141981e-03,  1.50328511e-02, -5.25705889e-02,\n",
       "        3.19315605e-02, -5.97957335e-02,  2.58482434e-02,  1.79113522e-02,\n",
       "       -7.00699911e-02, -7.45139783e-03, -6.44539110e-03,  1.03323320e-02,\n",
       "        2.10827384e-02, -4.54013124e-02,  4.57802340e-02, -4.06413078e-02,\n",
       "        1.45849248e-03, -3.01839691e-02,  1.59767084e-02, -3.21981162e-02,\n",
       "        6.92512840e-02, -1.32546294e-02,  5.88734867e-03, -3.33509669e-02,\n",
       "       -2.55463901e-03,  3.52397785e-02,  1.39414910e-02,  2.71806214e-02,\n",
       "        9.11200121e-02,  4.40750495e-02,  3.40240076e-02,  2.05859616e-02,\n",
       "       -1.94128007e-01, -1.05270399e-02,  2.79501602e-02,  1.13796582e-02,\n",
       "        7.14758486e-02,  1.42372688e-02,  5.30694462e-02, -4.09793518e-02,\n",
       "       -2.37918869e-02, -2.78444439e-02,  5.02104312e-02, -5.74939027e-02,\n",
       "       -1.33208949e-02,  1.67197790e-02,  7.96620026e-02, -6.84937090e-02,\n",
       "        4.09559049e-02,  1.65201491e-03, -6.81084320e-02, -7.58855864e-02,\n",
       "        3.33096199e-02, -7.64634907e-02, -1.24543719e-02, -8.45250580e-03,\n",
       "       -1.50713436e-02,  9.26374942e-02, -8.63964576e-03, -3.16603556e-02,\n",
       "        3.09321452e-02,  1.31631875e-02, -7.09917322e-02,  1.31081119e-01,\n",
       "       -1.20116383e-01,  4.36427109e-02, -6.98487088e-02, -1.02385551e-01,\n",
       "        6.63748682e-02, -5.18893003e-02, -1.04578406e-01, -8.17591883e-03,\n",
       "       -1.12951495e-01, -4.07665828e-03,  1.21987145e-02, -1.37233883e-02,\n",
       "       -3.60988602e-02,  1.71158928e-03,  1.35979608e-01, -2.92239673e-02,\n",
       "        8.13321117e-03, -1.75228696e-02, -2.27983878e-03,  3.01440861e-02,\n",
       "        4.60378686e-03,  2.25860253e-02,  6.88869879e-02, -9.70222428e-03,\n",
       "        3.09251547e-02,  4.98778485e-02, -9.31771621e-02, -1.91384286e-03,\n",
       "       -2.85508763e-02,  6.25176206e-02,  8.56966749e-02, -2.10092891e-33,\n",
       "        3.40485498e-02, -1.88849941e-02,  3.00582498e-02, -5.93010262e-02,\n",
       "        1.81743819e-02, -2.27428656e-02,  6.90350160e-02,  1.31519197e-03,\n",
       "       -9.18569043e-03,  4.34829965e-02,  4.71737608e-02,  4.87951888e-03,\n",
       "       -1.57985054e-02,  4.59825881e-02,  2.52230335e-02, -1.02191251e-02,\n",
       "       -9.14971232e-02,  6.47189375e-03, -5.27852811e-02, -4.55059018e-03,\n",
       "       -4.40338813e-02, -1.54527731e-03,  2.01863460e-02, -7.08464533e-02,\n",
       "        6.36801496e-02, -2.09153909e-03,  8.31524730e-02,  7.21340813e-03,\n",
       "        2.37920377e-02,  1.74220707e-02,  9.55976844e-02, -4.11889926e-02,\n",
       "       -9.94085819e-02, -8.59988481e-02,  9.34037194e-03,  2.49316972e-02,\n",
       "       -5.01453318e-03, -5.25103882e-02, -6.74061105e-02, -1.25827827e-02,\n",
       "        7.61718862e-03, -7.54609331e-02, -2.62166448e-02, -1.41828898e-02,\n",
       "        2.98119672e-02,  5.90687431e-02,  8.12269449e-02, -3.19936462e-02,\n",
       "       -3.93529050e-03,  3.00061442e-02, -4.03845683e-02, -6.10581599e-03,\n",
       "       -6.40576473e-03, -1.05303511e-01,  7.60405138e-02,  2.83747632e-02,\n",
       "       -1.57008544e-02, -2.30937940e-03, -5.62183326e-03, -1.85935553e-02,\n",
       "        6.88311607e-02,  3.79976556e-02, -1.80272646e-02,  5.02079772e-03,\n",
       "        8.67679939e-02,  3.99533212e-02, -5.70931286e-03,  1.33005694e-01,\n",
       "       -5.71513399e-02,  4.54723686e-02, -5.52022569e-02,  1.85068939e-02,\n",
       "       -4.27017324e-02, -6.16565421e-02,  3.57586406e-02, -5.63346259e-02,\n",
       "        9.70947836e-03,  4.01470661e-02, -3.05468179e-02, -2.57437192e-02,\n",
       "       -7.65490206e-03, -1.05975764e-02, -6.69883117e-02,  7.31118442e-03,\n",
       "        1.06914923e-01,  8.80488455e-02,  6.23186976e-02, -7.40783615e-03,\n",
       "        1.40179880e-02,  2.81448402e-02,  4.62829024e-02, -3.12438179e-02,\n",
       "        7.09173605e-02, -5.67004923e-03, -2.17621289e-02, -6.89413698e-33,\n",
       "       -4.92959693e-02, -1.63548477e-02,  3.40877380e-03, -1.08785369e-02,\n",
       "       -1.61434221e-03,  2.17502210e-02, -7.77432621e-02,  2.35478468e-02,\n",
       "       -1.24083376e-02,  1.52956486e-01, -8.22077394e-02,  2.39412449e-02,\n",
       "       -2.71555223e-03,  4.19553407e-02, -1.88335124e-02, -7.71580148e-04,\n",
       "        5.97385541e-02,  1.76914614e-02, -2.87794415e-03,  1.97060928e-02,\n",
       "        5.84438676e-03,  1.31356120e-02, -8.27061711e-04, -2.45295523e-04,\n",
       "       -8.57732445e-02,  1.82976704e-02,  3.28734927e-02, -1.40373586e-02,\n",
       "       -3.52644585e-02, -1.39916651e-02, -1.70346648e-02,  1.59124080e-02,\n",
       "       -2.12118737e-02,  2.28096917e-02,  2.56971475e-02, -1.20025657e-01,\n",
       "       -1.44116124e-02,  3.57671008e-02,  3.98525558e-02,  5.24134599e-02,\n",
       "       -1.01145759e-01,  3.65558155e-02,  1.00102402e-01,  1.52618736e-01,\n",
       "        5.95282950e-02,  4.79449816e-02, -1.04325144e-02, -2.05678474e-02,\n",
       "        1.39630437e-02,  1.07721072e-02, -4.33293134e-02,  4.50931229e-02,\n",
       "       -8.28925669e-02, -9.26282927e-02,  2.07380950e-02,  4.03870493e-02,\n",
       "        3.63956690e-02, -2.41007376e-02, -1.55761063e-01, -2.99184327e-03,\n",
       "       -2.11126562e-02, -1.19803526e-01, -3.97913195e-02, -2.58465689e-02],\n",
       "      dtype=float32)"
      ]
     },
     "execution_count": 39,
     "metadata": {},
     "output_type": "execute_result"
    }
   ],
   "source": [
    "v"
   ]
  },
  {
   "cell_type": "code",
   "execution_count": 8,
   "id": "f3c5affe-9827-46ba-9bff-83017060fa20",
   "metadata": {},
   "outputs": [
    {
     "data": {
      "text/plain": [
       "1.0000001"
      ]
     },
     "execution_count": 8,
     "metadata": {},
     "output_type": "execute_result"
    }
   ],
   "source": [
    "v.dot(v)"
   ]
  },
  {
   "cell_type": "code",
   "execution_count": 18,
   "id": "a82ad54a-7810-46ad-a6e5-a492955a18e0",
   "metadata": {},
   "outputs": [
    {
     "data": {
      "text/plain": [
       "ObjectApiResponse({'acknowledged': True, 'shards_acknowledged': True, 'index': 'course-questions'})"
      ]
     },
     "execution_count": 18,
     "metadata": {},
     "output_type": "execute_result"
    }
   ],
   "source": [
    "from elasticsearch import Elasticsearch\n",
    "\n",
    "es_client = Elasticsearch('http://localhost:9200') \n",
    "\n",
    "index_settings = {\n",
    "    \"settings\": {\n",
    "        \"number_of_shards\": 1,\n",
    "        \"number_of_replicas\": 0\n",
    "    },\n",
    "    \"mappings\": {\n",
    "        \"properties\": {\n",
    "            \"text\": {\"type\": \"text\"},\n",
    "            \"section\": {\"type\": \"text\"},\n",
    "            \"question\": {\"type\": \"text\"},\n",
    "            \"course\": {\"type\": \"keyword\"},\n",
    "            \"id\": {\"type\": \"keyword\"},\n",
    "            \"question_vector\": {\n",
    "                \"type\": \"dense_vector\",\n",
    "                \"dims\": 384,\n",
    "                \"index\": True,\n",
    "                \"similarity\": \"cosine\"\n",
    "            },\n",
    "            \"text_vector\": {\n",
    "                \"type\": \"dense_vector\",\n",
    "                \"dims\": 384,\n",
    "                \"index\": True,\n",
    "                \"similarity\": \"cosine\"\n",
    "            },\n",
    "            \"question_text_vector\": {\n",
    "                \"type\": \"dense_vector\",\n",
    "                \"dims\": 384,\n",
    "                \"index\": True,\n",
    "                \"similarity\": \"cosine\"\n",
    "            },\n",
    "        }\n",
    "    }\n",
    "}\n",
    "\n",
    "index_name = \"course-questions\"\n",
    "\n",
    "es_client.indices.delete(index=index_name, ignore_unavailable=True)\n",
    "es_client.indices.create(index=index_name, body=index_settings)"
   ]
  },
  {
   "cell_type": "code",
   "execution_count": 10,
   "id": "41d3e875-acf0-462f-aede-e8529d6b91ea",
   "metadata": {},
   "outputs": [],
   "source": [
    "from tqdm.auto import tqdm"
   ]
  },
  {
   "cell_type": "code",
   "execution_count": 11,
   "id": "e66f3e45-679b-4b33-b733-28ad1cb49623",
   "metadata": {},
   "outputs": [
    {
     "data": {
      "application/vnd.jupyter.widget-view+json": {
       "model_id": "c043cc26788a4735983ae24a70d0c1b2",
       "version_major": 2,
       "version_minor": 0
      },
      "text/plain": [
       "  0%|          | 0/948 [00:00<?, ?it/s]"
      ]
     },
     "metadata": {},
     "output_type": "display_data"
    }
   ],
   "source": [
    "for doc in tqdm(documents):\n",
    "    question = doc['question']\n",
    "    text = doc['text']\n",
    "    qt = question + ' ' + text\n",
    "\n",
    "    doc['question_vector'] = model.encode(question)\n",
    "    doc['text_vector'] = model.encode(text)\n",
    "    doc['question_text_vector'] = model.encode(qt)"
   ]
  },
  {
   "cell_type": "code",
   "execution_count": 19,
   "id": "eb93676a-3864-4d50-94b3-caaa5103bebc",
   "metadata": {},
   "outputs": [
    {
     "data": {
      "application/vnd.jupyter.widget-view+json": {
       "model_id": "fdd44597d0b64c3b963206e8a26362c6",
       "version_major": 2,
       "version_minor": 0
      },
      "text/plain": [
       "  0%|          | 0/948 [00:00<?, ?it/s]"
      ]
     },
     "metadata": {},
     "output_type": "display_data"
    }
   ],
   "source": [
    "for doc in tqdm(documents):\n",
    "    es_client.index(index=index_name, document=doc)"
   ]
  },
  {
   "cell_type": "code",
   "execution_count": 20,
   "id": "1a5c4d5b-2608-4ff5-a375-582d834b007c",
   "metadata": {},
   "outputs": [],
   "source": [
    "query = \"I just discovered the course. Can I still join it?\""
   ]
  },
  {
   "cell_type": "code",
   "execution_count": 21,
   "id": "8befff4b-22f9-4beb-b84f-0b3d768df70f",
   "metadata": {},
   "outputs": [],
   "source": [
    "v_q = model.encode(query)"
   ]
  },
  {
   "cell_type": "code",
   "execution_count": 22,
   "id": "b3187999-ef55-4a49-a134-25330f5bd4b0",
   "metadata": {},
   "outputs": [],
   "source": [
    "search_query = {\n",
    "    \"field\": \"text_vector\",\n",
    "    \"query_vector\": v_q,\n",
    "    \"k\": 5,\n",
    "    \"num_candidates\": 10000\n",
    "}"
   ]
  },
  {
   "cell_type": "code",
   "execution_count": 23,
   "id": "63bf7023-8d63-4b28-86a9-b3e01978cc61",
   "metadata": {},
   "outputs": [],
   "source": [
    "es_results = es_client.search(\n",
    "    index=index_name,\n",
    "    knn=search_query,\n",
    "    source=[\"text\", \"section\", \"question\", \"course\", \"id\"]\n",
    ")"
   ]
  },
  {
   "cell_type": "code",
   "execution_count": 24,
   "id": "b9656a33-6a75-4243-8893-c0b3e0486949",
   "metadata": {},
   "outputs": [
    {
     "data": {
      "text/plain": [
       "[{'_index': 'course-questions',\n",
       "  '_id': '65aWxpABZaGhAutJcyzx',\n",
       "  '_score': 0.7875777,\n",
       "  '_source': {'question': 'When does the next iteration start?',\n",
       "   'course': 'machine-learning-zoomcamp',\n",
       "   'section': 'General course-related questions',\n",
       "   'text': 'The course is available in the self-paced mode too, so you can go through the materials at any time. But if you want to do it as a cohort with other students, the next iterations will happen in September 2023, September 2024 (and potentially other Septembers as well).',\n",
       "   'id': '636f55d5'}},\n",
       " {'_index': 'course-questions',\n",
       "  '_id': '6paWxpABZaGhAutJcyzj',\n",
       "  '_score': 0.76579726,\n",
       "  '_source': {'question': 'The course has already started. Can I still join it?',\n",
       "   'course': 'machine-learning-zoomcamp',\n",
       "   'section': 'General course-related questions',\n",
       "   'text': 'Yes, you can. You won’t be able to submit some of the homeworks, but you can still take part in the course.\\nIn order to get a certificate, you need to submit 2 out of 3 course projects and review 3 peers’ Projects by the deadline. It means that if you join the course at the end of November and manage to work on two projects, you will still be eligible for a certificate.',\n",
       "   'id': 'ee58a693'}},\n",
       " {'_index': 'course-questions',\n",
       "  '_id': '7JaWxpABZaGhAutJcyz-',\n",
       "  '_score': 0.7465223,\n",
       "  '_source': {'question': 'Can I submit the homework after the due date?',\n",
       "   'course': 'machine-learning-zoomcamp',\n",
       "   'section': 'General course-related questions',\n",
       "   'text': 'No, it’s not possible. The form is closed after the due date. But don’t worry, homework is not mandatory for finishing the course.',\n",
       "   'id': 'c839b764'}},\n",
       " {'_index': 'course-questions',\n",
       "  '_id': 'NJaWxpABZaGhAutJYCtX',\n",
       "  '_score': 0.74253577,\n",
       "  '_source': {'question': 'Certificate - Can I follow the course in a self-paced mode and get a certificate?',\n",
       "   'course': 'data-engineering-zoomcamp',\n",
       "   'section': 'General course-related questions',\n",
       "   'text': \"No, you can only get a certificate if you finish the course with a “live” cohort. We don't award certificates for the self-paced mode. The reason is you need to peer-review capstone(s) after submitting a project. You can only peer-review projects at the time the course is running.\",\n",
       "   'id': 'cb257ee5'}},\n",
       " {'_index': 'course-questions',\n",
       "  '_id': 'MJaWxpABZaGhAutJXyup',\n",
       "  '_score': 0.73501945,\n",
       "  '_source': {'question': 'Course - Can I follow the course after it finishes?',\n",
       "   'course': 'data-engineering-zoomcamp',\n",
       "   'section': 'General course-related questions',\n",
       "   'text': 'Yes, we will keep all the materials after the course finishes, so you can follow the course at your own pace after it finishes.\\nYou can also continue looking at the homeworks and continue preparing for the next cohort. I guess you can also start working on your final capstone project.',\n",
       "   'id': 'a482086d'}}]"
      ]
     },
     "execution_count": 24,
     "metadata": {},
     "output_type": "execute_result"
    }
   ],
   "source": [
    "es_results['hits']['hits']"
   ]
  },
  {
   "cell_type": "code",
   "execution_count": 25,
   "id": "f9512568-84d5-45ac-9807-d7cee0c1dfa6",
   "metadata": {},
   "outputs": [],
   "source": [
    "search_query = {\n",
    "    \"knn\": {\n",
    "        \"field\": \"question_vector\",\n",
    "        \"query_vector\": v_q,\n",
    "        \"k\": 5,\n",
    "        \"num_candidates\": 10000,\n",
    "        \"filter\": {\n",
    "            \"term\": {\n",
    "                \"course\": \"data-engineering-zoomcamp\"\n",
    "            }\n",
    "        }\n",
    "    },\n",
    "    \"_source\": [\"text\", \"section\", \"question\", \"course\", \"id\"]\n",
    "}\n",
    "\n",
    "es_results = es_client.search(\n",
    "    index=index_name,\n",
    "    body=search_query,\n",
    ")"
   ]
  },
  {
   "cell_type": "code",
   "execution_count": 26,
   "id": "e1e54eae-13bb-42e9-bf3e-31d681dc93db",
   "metadata": {},
   "outputs": [
    {
     "data": {
      "text/plain": [
       "[{'_index': 'course-questions',\n",
       "  '_id': 'K5aWxpABZaGhAutJXysK',\n",
       "  '_score': 0.8921697,\n",
       "  '_source': {'question': 'Course - Can I still join the course after the start date?',\n",
       "   'course': 'data-engineering-zoomcamp',\n",
       "   'section': 'General course-related questions',\n",
       "   'text': \"Yes, even if you don't register, you're still eligible to submit the homeworks.\\nBe aware, however, that there will be deadlines for turning in the final projects. So don't leave everything for the last minute.\",\n",
       "   'id': '7842b56a'}},\n",
       " {'_index': 'course-questions',\n",
       "  '_id': 'MJaWxpABZaGhAutJXyup',\n",
       "  '_score': 0.8608286,\n",
       "  '_source': {'question': 'Course - Can I follow the course after it finishes?',\n",
       "   'course': 'data-engineering-zoomcamp',\n",
       "   'section': 'General course-related questions',\n",
       "   'text': 'Yes, we will keep all the materials after the course finishes, so you can follow the course at your own pace after it finishes.\\nYou can also continue looking at the homeworks and continue preparing for the next cohort. I guess you can also start working on your final capstone project.',\n",
       "   'id': 'a482086d'}},\n",
       " {'_index': 'course-questions',\n",
       "  '_id': 'S5aWxpABZaGhAutJYSth',\n",
       "  '_score': 0.816152,\n",
       "  '_source': {'question': 'How can we contribute to the course?',\n",
       "   'course': 'data-engineering-zoomcamp',\n",
       "   'section': 'General course-related questions',\n",
       "   'text': 'Star the repo! Share it with friends if you find it useful ❣️\\nCreate a PR if you see you can improve the text or the structure of the repository.',\n",
       "   'id': '2f19301f'}},\n",
       " {'_index': 'course-questions',\n",
       "  '_id': 'LZaWxpABZaGhAutJXys7',\n",
       "  '_score': 0.8097327,\n",
       "  '_source': {'question': 'Course - What can I do before the course starts?',\n",
       "   'course': 'data-engineering-zoomcamp',\n",
       "   'section': 'General course-related questions',\n",
       "   'text': 'You can start by installing and setting up all the dependencies and requirements:\\nGoogle cloud account\\nGoogle Cloud SDK\\nPython 3 (installed with Anaconda)\\nTerraform\\nGit\\nLook over the prerequisites and syllabus to see if you are comfortable with these subjects.',\n",
       "   'id': '63394d91'}},\n",
       " {'_index': 'course-questions',\n",
       "  '_id': 'MZaWxpABZaGhAutJXyv9',\n",
       "  '_score': 0.8021499,\n",
       "  '_source': {'question': 'Course - Can I get support if I take the course in the self-paced mode?',\n",
       "   'course': 'data-engineering-zoomcamp',\n",
       "   'section': 'General course-related questions',\n",
       "   'text': 'Yes, the slack channel remains open and you can ask questions there. But always sDocker containers exit code w search the channel first and second, check the FAQ (this document), most likely all your questions are already answered here.\\nYou can also tag the bot @ZoomcampQABot to help you conduct the search, but don’t rely on its answers 100%, it is pretty good though.',\n",
       "   'id': 'eb56ae98'}}]"
      ]
     },
     "execution_count": 26,
     "metadata": {},
     "output_type": "execute_result"
    }
   ],
   "source": [
    "es_results['hits']['hits']"
   ]
  },
  {
   "cell_type": "code",
   "execution_count": 27,
   "id": "09903a74-65fe-45ef-b5ca-4818d04b6ee0",
   "metadata": {},
   "outputs": [],
   "source": [
    "def elastic_search_knn(field, vector, course):\n",
    "    knn = {\n",
    "        \"field\": field,\n",
    "        \"query_vector\": vector,\n",
    "        \"k\": 5,\n",
    "        \"num_candidates\": 10000,\n",
    "        \"filter\": {\n",
    "            \"term\": {\n",
    "                \"course\": course\n",
    "            }\n",
    "        }\n",
    "    }\n",
    "\n",
    "    search_query = {\n",
    "        \"knn\": knn,\n",
    "        \"_source\": [\"text\", \"section\", \"question\", \"course\", \"id\"]\n",
    "    }\n",
    "\n",
    "    es_results = es_client.search(\n",
    "        index=index_name,\n",
    "        body=search_query\n",
    "    )\n",
    "    \n",
    "    result_docs = []\n",
    "    \n",
    "    for hit in es_results['hits']['hits']:\n",
    "        result_docs.append(hit['_source'])\n",
    "\n",
    "    return result_docs"
   ]
  },
  {
   "cell_type": "code",
   "execution_count": 28,
   "id": "ef313481-3f92-4db3-973b-ffdcc3d00e99",
   "metadata": {},
   "outputs": [],
   "source": [
    "def question_vector_knn(q):\n",
    "    question = q['question']\n",
    "    course = q['course']\n",
    "\n",
    "    v_q = model.encode(question)\n",
    "\n",
    "    return elastic_search_knn('question_vector', v_q, course)"
   ]
  },
  {
   "cell_type": "code",
   "execution_count": 29,
   "id": "ff7d2f37-163a-49d5-9b4d-c6a5f0ad2c3c",
   "metadata": {},
   "outputs": [],
   "source": [
    "df_ground_truth = pd.read_csv('ground-truth-data.csv')"
   ]
  },
  {
   "cell_type": "code",
   "execution_count": 30,
   "id": "b97e982b-b4ae-46c4-8f7e-837fa72f1a7d",
   "metadata": {},
   "outputs": [],
   "source": [
    "ground_truth = df_ground_truth.to_dict(orient='records')"
   ]
  },
  {
   "cell_type": "code",
   "execution_count": 31,
   "id": "034b412c-4647-4208-8963-80baad75cd69",
   "metadata": {},
   "outputs": [
    {
     "data": {
      "text/plain": [
       "{'question': 'When does the course begin?',\n",
       " 'course': 'data-engineering-zoomcamp',\n",
       " 'document': 'c02e79ef'}"
      ]
     },
     "execution_count": 31,
     "metadata": {},
     "output_type": "execute_result"
    }
   ],
   "source": [
    "ground_truth[0]"
   ]
  },
  {
   "cell_type": "code",
   "execution_count": 32,
   "id": "14c0fb7d-ed03-428e-911d-c4201b72a989",
   "metadata": {},
   "outputs": [],
   "source": [
    "def hit_rate(relevance_total):\n",
    "    cnt = 0\n",
    "\n",
    "    for line in relevance_total:\n",
    "        if True in line:\n",
    "            cnt = cnt + 1\n",
    "\n",
    "    return cnt / len(relevance_total)"
   ]
  },
  {
   "cell_type": "code",
   "execution_count": 33,
   "id": "ad6c7a2a-683e-49b1-b8e1-acdd0dad637d",
   "metadata": {},
   "outputs": [],
   "source": [
    "def mrr(relevance_total):\n",
    "    total_score = 0.0\n",
    "\n",
    "    for line in relevance_total:\n",
    "        for rank in range(len(line)):\n",
    "            if line[rank] == True:\n",
    "                total_score = total_score + 1 / (rank + 1)\n",
    "\n",
    "    return total_score / len(relevance_total)"
   ]
  },
  {
   "cell_type": "code",
   "execution_count": 34,
   "id": "bab14482-28bd-4c7a-b615-e8e1a97cf7b7",
   "metadata": {},
   "outputs": [
    {
     "data": {
      "text/plain": [
       "[{'question': 'Course - Can I still join the course after the start date?',\n",
       "  'course': 'data-engineering-zoomcamp',\n",
       "  'section': 'General course-related questions',\n",
       "  'text': \"Yes, even if you don't register, you're still eligible to submit the homeworks.\\nBe aware, however, that there will be deadlines for turning in the final projects. So don't leave everything for the last minute.\",\n",
       "  'id': '7842b56a'},\n",
       " {'question': 'Course - Can I follow the course after it finishes?',\n",
       "  'course': 'data-engineering-zoomcamp',\n",
       "  'section': 'General course-related questions',\n",
       "  'text': 'Yes, we will keep all the materials after the course finishes, so you can follow the course at your own pace after it finishes.\\nYou can also continue looking at the homeworks and continue preparing for the next cohort. I guess you can also start working on your final capstone project.',\n",
       "  'id': 'a482086d'},\n",
       " {'question': 'How can we contribute to the course?',\n",
       "  'course': 'data-engineering-zoomcamp',\n",
       "  'section': 'General course-related questions',\n",
       "  'text': 'Star the repo! Share it with friends if you find it useful ❣️\\nCreate a PR if you see you can improve the text or the structure of the repository.',\n",
       "  'id': '2f19301f'},\n",
       " {'question': 'Course - What can I do before the course starts?',\n",
       "  'course': 'data-engineering-zoomcamp',\n",
       "  'section': 'General course-related questions',\n",
       "  'text': 'You can start by installing and setting up all the dependencies and requirements:\\nGoogle cloud account\\nGoogle Cloud SDK\\nPython 3 (installed with Anaconda)\\nTerraform\\nGit\\nLook over the prerequisites and syllabus to see if you are comfortable with these subjects.',\n",
       "  'id': '63394d91'},\n",
       " {'question': 'Course - Can I get support if I take the course in the self-paced mode?',\n",
       "  'course': 'data-engineering-zoomcamp',\n",
       "  'section': 'General course-related questions',\n",
       "  'text': 'Yes, the slack channel remains open and you can ask questions there. But always sDocker containers exit code w search the channel first and second, check the FAQ (this document), most likely all your questions are already answered here.\\nYou can also tag the bot @ZoomcampQABot to help you conduct the search, but don’t rely on its answers 100%, it is pretty good though.',\n",
       "  'id': 'eb56ae98'}]"
      ]
     },
     "execution_count": 34,
     "metadata": {},
     "output_type": "execute_result"
    }
   ],
   "source": [
    "elastic_search_knn('question_vector', v_q, 'data-engineering-zoomcamp')"
   ]
  },
  {
   "cell_type": "code",
   "execution_count": 35,
   "id": "d3e3bc38-ed87-43cc-b996-7d84fee2d314",
   "metadata": {},
   "outputs": [],
   "source": [
    "def evaluate(ground_truth, search_function):\n",
    "    relevance_total = []\n",
    "\n",
    "    for q in tqdm(ground_truth):\n",
    "        doc_id = q['document']\n",
    "        results = search_function(q)\n",
    "        relevance = [d['id'] == doc_id for d in results]\n",
    "        relevance_total.append(relevance)\n",
    "\n",
    "    return {\n",
    "        'hit_rate': hit_rate(relevance_total),\n",
    "        'mrr': mrr(relevance_total),\n",
    "    }"
   ]
  },
  {
   "cell_type": "code",
   "execution_count": 36,
   "id": "69ff43e5-fe7d-4820-a8c0-dc5ee5e6e20d",
   "metadata": {},
   "outputs": [
    {
     "data": {
      "application/vnd.jupyter.widget-view+json": {
       "model_id": "a16db7665ec540e6a59baeadb27f864a",
       "version_major": 2,
       "version_minor": 0
      },
      "text/plain": [
       "  0%|          | 0/4627 [00:00<?, ?it/s]"
      ]
     },
     "metadata": {},
     "output_type": "display_data"
    },
    {
     "data": {
      "text/plain": [
       "{'hit_rate': 0.773071104387292, 'mrr': 0.6666810748505158}"
      ]
     },
     "execution_count": 36,
     "metadata": {},
     "output_type": "execute_result"
    }
   ],
   "source": [
    "evaluate(ground_truth, question_vector_knn)"
   ]
  },
  {
   "cell_type": "code",
   "execution_count": 37,
   "id": "33eab1c9-87b3-4737-a17c-7e3e169a66ec",
   "metadata": {},
   "outputs": [],
   "source": [
    "def text_vector_knn(q):\n",
    "    question = q['question']\n",
    "    course = q['course']\n",
    "\n",
    "    v_q = model.encode(question)\n",
    "\n",
    "    return elastic_search_knn('text_vector', v_q, course)"
   ]
  },
  {
   "cell_type": "code",
   "execution_count": 38,
   "id": "0691e375-6f95-4820-95ab-db0a9dd4d623",
   "metadata": {},
   "outputs": [
    {
     "data": {
      "application/vnd.jupyter.widget-view+json": {
       "model_id": "68eec51ceb834fe9815066f57424c1b5",
       "version_major": 2,
       "version_minor": 0
      },
      "text/plain": [
       "  0%|          | 0/4627 [00:00<?, ?it/s]"
      ]
     },
     "metadata": {},
     "output_type": "display_data"
    },
    {
     "data": {
      "text/plain": [
       "{'hit_rate': 0.8286146531229739, 'mrr': 0.7062315395144454}"
      ]
     },
     "execution_count": 38,
     "metadata": {},
     "output_type": "execute_result"
    }
   ],
   "source": [
    "evaluate(ground_truth, text_vector_knn)"
   ]
  },
  {
   "cell_type": "code",
   "execution_count": null,
   "id": "6d9636f1-39a7-47f2-a4b1-ae043b5fa84a",
   "metadata": {},
   "outputs": [],
   "source": [
    "def question_text_vector_knn(q):\n",
    "    question = q['question']\n",
    "    course = q['course']\n",
    "\n",
    "    v_q = model.encode(question)\n",
    "\n",
    "    return elastic_search_knn('question_text_vector', v_q, course)\n",
    "\n",
    "evaluate(ground_truth, question_text_vector_knn)"
   ]
  },
  {
   "cell_type": "code",
   "execution_count": null,
   "id": "7ea62336-f822-4367-9a78-a7a329e56bbe",
   "metadata": {},
   "outputs": [],
   "source": [
    "evaluate(ground_truth, text_vector_knn)"
   ]
  }
 ],
 "metadata": {
  "kernelspec": {
   "display_name": "Python 3 (ipykernel)",
   "language": "python",
   "name": "python3"
  },
  "language_info": {
   "codemirror_mode": {
    "name": "ipython",
    "version": 3
   },
   "file_extension": ".py",
   "mimetype": "text/x-python",
   "name": "python",
   "nbconvert_exporter": "python",
   "pygments_lexer": "ipython3",
   "version": "3.9.6"
  }
 },
 "nbformat": 4,
 "nbformat_minor": 5
}
