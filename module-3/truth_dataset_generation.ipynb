{
 "cells": [
  {
   "cell_type": "code",
   "execution_count": 1,
   "id": "867fe3ce-c829-44aa-914d-269d5df20e84",
   "metadata": {},
   "outputs": [
    {
     "name": "stderr",
     "output_type": "stream",
     "text": [
      "/Users/amoghkulkarni/.local/share/virtualenvs/python_practice-ZCCdr_2d/lib/python3.9/site-packages/urllib3/__init__.py:35: NotOpenSSLWarning: urllib3 v2 only supports OpenSSL 1.1.1+, currently the 'ssl' module is compiled with 'LibreSSL 2.8.3'. See: https://github.com/urllib3/urllib3/issues/3020\n",
      "  warnings.warn(\n"
     ]
    }
   ],
   "source": [
    "import json\n",
    "from elasticsearch import Elasticsearch"
   ]
  },
  {
   "cell_type": "code",
   "execution_count": 2,
   "id": "8d355a85-55af-4e1e-887c-682f38bfbd26",
   "metadata": {},
   "outputs": [],
   "source": [
    "with open('../documents.json', 'rt') as f_in:\n",
    "    docs_raw = json.load(f_in)\n",
    "\n",
    "documents = []\n",
    "\n",
    "for course_dict in docs_raw:\n",
    "    for doc in course_dict['documents']:\n",
    "        doc['course'] = course_dict['course']\n",
    "        documents.append(doc)"
   ]
  },
  {
   "cell_type": "code",
   "execution_count": 3,
   "id": "e68822b2-96d4-467d-8ebb-bae37e4edb9b",
   "metadata": {},
   "outputs": [
    {
     "data": {
      "text/plain": [
       "{'text': \"The purpose of this document is to capture frequently asked technical questions\\nThe exact day and hour of the course will be 15th Jan 2024 at 17h00. The course will start with the first  “Office Hours'' live.1\\nSubscribe to course public Google Calendar (it works from Desktop only).\\nRegister before the course starts using this link.\\nJoin the course Telegram channel with announcements.\\nDon’t forget to register in DataTalks.Club's Slack and join the channel.\",\n",
       " 'section': 'General course-related questions',\n",
       " 'question': 'Course - When will the course start?',\n",
       " 'course': 'data-engineering-zoomcamp'}"
      ]
     },
     "execution_count": 3,
     "metadata": {},
     "output_type": "execute_result"
    }
   ],
   "source": [
    "documents[0]"
   ]
  },
  {
   "cell_type": "code",
   "execution_count": 4,
   "id": "2b83a8ba-1722-4b8a-b668-4f94c162a44b",
   "metadata": {},
   "outputs": [],
   "source": [
    "import hashlib\n",
    "\n",
    "def generate_document_id(doc):\n",
    "    # combined = f\"{doc['course']}-{doc['question']}\"\n",
    "    combined = f\"{doc['course']}-{doc['question']}-{doc['text'][:10]}\"\n",
    "    hash_object = hashlib.md5(combined.encode())\n",
    "    hash_hex = hash_object.hexdigest()\n",
    "    document_id = hash_hex[:8]\n",
    "    return document_id"
   ]
  },
  {
   "cell_type": "code",
   "execution_count": 5,
   "id": "e550eefc-4d20-44a3-9915-f07091ed7950",
   "metadata": {},
   "outputs": [],
   "source": [
    "for doc in documents:\n",
    "    doc['id'] = generate_document_id(doc)"
   ]
  },
  {
   "cell_type": "code",
   "execution_count": 6,
   "id": "c0338596-a372-483f-be08-627de5259b0e",
   "metadata": {},
   "outputs": [
    {
     "data": {
      "text/plain": [
       "{'text': 'GitHub - DataTalksClub data-engineering-zoomcamp#prerequisites',\n",
       " 'section': 'General course-related questions',\n",
       " 'question': 'Course - What are the prerequisites for this course?',\n",
       " 'course': 'data-engineering-zoomcamp',\n",
       " 'id': '1f6520ca'}"
      ]
     },
     "execution_count": 6,
     "metadata": {},
     "output_type": "execute_result"
    }
   ],
   "source": [
    "documents[1]"
   ]
  },
  {
   "cell_type": "code",
   "execution_count": 7,
   "id": "7e5dee28-4a5a-4021-bf8b-8fdcfb16dab1",
   "metadata": {},
   "outputs": [],
   "source": [
    "from collections import defaultdict"
   ]
  },
  {
   "cell_type": "code",
   "execution_count": 8,
   "id": "236a8a3e-b36e-47e9-a7fa-7c24beb71dba",
   "metadata": {},
   "outputs": [],
   "source": [
    "hashes = defaultdict(list)\n",
    "\n",
    "for doc in documents:\n",
    "    doc_id = doc['id']\n",
    "    hashes[doc_id].append(doc)"
   ]
  },
  {
   "cell_type": "code",
   "execution_count": 9,
   "id": "ae2c1c6d-d264-4801-9118-9ec90b0c1064",
   "metadata": {},
   "outputs": [
    {
     "data": {
      "text/plain": [
       "[{'text': 'GitHub - DataTalksClub data-engineering-zoomcamp#prerequisites',\n",
       "  'section': 'General course-related questions',\n",
       "  'question': 'Course - What are the prerequisites for this course?',\n",
       "  'course': 'data-engineering-zoomcamp',\n",
       "  'id': '1f6520ca'}]"
      ]
     },
     "execution_count": 9,
     "metadata": {},
     "output_type": "execute_result"
    }
   ],
   "source": [
    "hashes['1f6520ca']"
   ]
  },
  {
   "cell_type": "code",
   "execution_count": 10,
   "id": "33a8d2ba-947b-410f-b54d-77e17678d251",
   "metadata": {},
   "outputs": [
    {
     "data": {
      "text/plain": [
       "(947, 948)"
      ]
     },
     "execution_count": 10,
     "metadata": {},
     "output_type": "execute_result"
    }
   ],
   "source": [
    "len(hashes), len(documents)"
   ]
  },
  {
   "cell_type": "code",
   "execution_count": 11,
   "id": "5c101272-b3b7-47d4-965c-2efe71ca2041",
   "metadata": {},
   "outputs": [],
   "source": [
    "with open('documents-with-ids.json', 'wt') as f_out:\n",
    "    json.dump(documents, f_out, indent=2)"
   ]
  },
  {
   "cell_type": "code",
   "execution_count": 13,
   "id": "06f831b9-52d0-4097-b02e-1df0a228f8f5",
   "metadata": {},
   "outputs": [
    {
     "name": "stdout",
     "output_type": "stream",
     "text": [
      "[\n",
      "  {\n",
      "    \"text\": \"The purpose of this document is to capture frequently asked technical questions\\nThe exact day and hour of the course will be 15th Jan 2024 at 17h00. The course will start with the first  \\u201cOffice Hours'' live.1\\nSubscribe to course public Google Calendar (it works from Desktop only).\\nRegister before the course starts using this link.\\nJoin the course Telegram channel with announcements.\\nDon\\u2019t forget to register in DataTalks.Club's Slack and join the channel.\",\n",
      "    \"section\": \"General course-related questions\",\n",
      "    \"question\": \"Course - When will the course start?\",\n",
      "    \"course\": \"data-engineering-zoomcamp\",\n",
      "    \"id\": \"c02e79ef\"\n",
      "  },\n",
      "  {\n",
      "    \"text\": \"GitHub - DataTalksClub data-engineering-zoomcamp#prerequisites\",\n",
      "    \"section\": \"General course-related questions\",\n",
      "    \"question\": \"Course - What are the prerequisites for this course?\",\n",
      "    \"course\": \"data-engineering-zoomcamp\",\n",
      "    \"id\": \"1f6520ca\"\n",
      "  },\n"
     ]
    }
   ],
   "source": [
    "!head -n 15 documents-with-ids.json"
   ]
  },
  {
   "cell_type": "code",
   "execution_count": 5,
   "id": "2fff4623-bdbc-4bd2-9748-0153815f127e",
   "metadata": {},
   "outputs": [],
   "source": [
    "with open('documents-with-ids.json', 'rt') as f_in:\n",
    "    docs_raw = json.load(f_in)"
   ]
  },
  {
   "cell_type": "code",
   "execution_count": 7,
   "id": "36ffe9ee-dead-4a7e-9d3b-4127cc6d6b8a",
   "metadata": {},
   "outputs": [],
   "source": [
    "documents = docs_raw"
   ]
  },
  {
   "cell_type": "code",
   "execution_count": 8,
   "id": "cbb749c3-aad9-434b-9f2c-6187c48cb1c3",
   "metadata": {},
   "outputs": [],
   "source": [
    "prompt_template = \"\"\"\n",
    "You emulate a student who's taking our course.\n",
    "Formulate 5 questions this student might ask based on a FAQ record. The record\n",
    "should contain the answer to the questions, and the questions should be complete and not too short.\n",
    "If possible, use as fewer words as possible from the record. \n",
    "\n",
    "The record:\n",
    "\n",
    "section: {section}\n",
    "question: {question}\n",
    "answer: {text}\n",
    "\n",
    "Provide the output in parsable JSON without using code blocks:\n",
    "\n",
    "[\"question1\", \"question2\", ..., \"question5\"]\n",
    "\"\"\".strip()"
   ]
  },
  {
   "cell_type": "code",
   "execution_count": 9,
   "id": "852c50f9-39f5-4c70-b754-6c694c19cd96",
   "metadata": {},
   "outputs": [],
   "source": [
    "from huggingface_hub import InferenceClient"
   ]
  },
  {
   "cell_type": "code",
   "execution_count": 10,
   "id": "449e5e8d-80cd-4deb-aeeb-f33b8e34245d",
   "metadata": {},
   "outputs": [],
   "source": [
    "import os"
   ]
  },
  {
   "cell_type": "code",
   "execution_count": 11,
   "id": "200b7ccf-0d14-4b4a-a06e-aa6397acdf9b",
   "metadata": {},
   "outputs": [],
   "source": [
    "HF_API_TOKEN = os.getenv('HF_API_TOKEN')"
   ]
  },
  {
   "cell_type": "code",
   "execution_count": 12,
   "id": "52353c2d-e883-4faa-8c8f-4464f6f6e11f",
   "metadata": {},
   "outputs": [],
   "source": [
    "client = InferenceClient(\"HuggingFaceH4/zephyr-7b-beta\", token=HF_API_TOKEN)"
   ]
  },
  {
   "cell_type": "code",
   "execution_count": 14,
   "id": "940c26e9-4a54-4002-a67e-12da1fc7f389",
   "metadata": {},
   "outputs": [],
   "source": [
    "doc = documents[2]\n",
    "prompt = prompt_template.format(**doc)"
   ]
  },
  {
   "cell_type": "code",
   "execution_count": 15,
   "id": "75459f7b-4744-4164-be86-91faaddf48a3",
   "metadata": {},
   "outputs": [
    {
     "name": "stdout",
     "output_type": "stream",
     "text": [
      "You emulate a student who's taking our course.\n",
      "Formulate 5 questions this student might ask based on a FAQ record. The record\n",
      "should contain the answer to the questions, and the questions should be complete and not too short.\n",
      "If possible, use as fewer words as possible from the record. \n",
      "\n",
      "The record:\n",
      "\n",
      "section: General course-related questions\n",
      "question: Course - Can I still join the course after the start date?\n",
      "answer: Yes, even if you don't register, you're still eligible to submit the homeworks.\n",
      "Be aware, however, that there will be deadlines for turning in the final projects. So don't leave everything for the last minute.\n",
      "\n",
      "Provide the output in parsable JSON without using code blocks:\n",
      "\n",
      "[\"question1\", \"question2\", ..., \"question5\"]\n"
     ]
    }
   ],
   "source": [
    "print(prompt)"
   ]
  },
  {
   "cell_type": "code",
   "execution_count": 16,
   "id": "d85e33d4-7bfa-41e2-99bf-f2d8ec6dad4e",
   "metadata": {},
   "outputs": [],
   "source": [
    "messages = [{\"role\": \"user\", \"content\": prompt}]"
   ]
  },
  {
   "cell_type": "code",
   "execution_count": 19,
   "id": "88d6a21a-c475-4f36-9dee-3d1f7759a9be",
   "metadata": {},
   "outputs": [],
   "source": [
    "response = client.chat_completion(messages, max_tokens=1000)"
   ]
  },
  {
   "cell_type": "code",
   "execution_count": 25,
   "id": "a432d2ef-22f9-4991-8733-5d660da77ade",
   "metadata": {},
   "outputs": [],
   "source": [
    "questions = response.choices[0].message.content"
   ]
  },
  {
   "cell_type": "code",
   "execution_count": 26,
   "id": "5e5cd4e0-5f81-4116-b640-cef2deff859a",
   "metadata": {},
   "outputs": [
    {
     "data": {
      "text/plain": [
       "['1. \"If I join the course after the start date, will I still be able to participate in the discussions and interactive activities?\"',\n",
       " '2. \"How long do I have to submit my final projects after joining the course late?\"',\n",
       " '3. \"Can I receive any late penalty for submitting my homeworks after the deadline?\"',\n",
       " '4. \"How can I access the course materials and assignments after enrolling late?\"',\n",
       " '5. \"Will I have any support or assistance from the instructors if I join the course later on?\"']"
      ]
     },
     "execution_count": 26,
     "metadata": {},
     "output_type": "execute_result"
    }
   ],
   "source": [
    "questions.split('\\n')"
   ]
  },
  {
   "cell_type": "code",
   "execution_count": 27,
   "id": "d481610e-c9e9-4ab5-bc07-c950660d60e6",
   "metadata": {},
   "outputs": [],
   "source": [
    "def generate_questions(doc):\n",
    "    prompt = prompt_template.format(**doc)\n",
    "    messages = [{\"role\": \"user\", \"content\": prompt}]\n",
    "\n",
    "    response = client.chat_completion(messages, max_tokens=1000)\n",
    "    questions = response.choices[0].message.content\n",
    "    return questions.split('\\n')"
   ]
  },
  {
   "cell_type": "code",
   "execution_count": 28,
   "id": "bd715ef6-5b18-40b9-a9ff-55ed31709c3e",
   "metadata": {},
   "outputs": [],
   "source": [
    "from tqdm.auto import tqdm\n",
    "results = {}"
   ]
  },
  {
   "cell_type": "code",
   "execution_count": null,
   "id": "d251f9c4-d5b2-4f1e-90e4-499b742615b1",
   "metadata": {},
   "outputs": [],
   "source": [
    "## Do not run the below code as it might hit rate limit on Hugging face API\n",
    "\n",
    "for doc in tqdm(documents): \n",
    "    doc_id = doc['id']\n",
    "    if doc_id in results:\n",
    "        continue\n",
    "\n",
    "    questions = generate_questions(doc)\n",
    "    results[doc_id] = questions"
   ]
  },
  {
   "cell_type": "code",
   "execution_count": 31,
   "id": "714a057b-4a6f-45b5-91fb-9a88a1551034",
   "metadata": {},
   "outputs": [
    {
     "data": {
      "text/plain": [
       "28"
      ]
     },
     "execution_count": 31,
     "metadata": {},
     "output_type": "execute_result"
    }
   ],
   "source": [
    "len(results)"
   ]
  },
  {
   "cell_type": "code",
   "execution_count": 32,
   "id": "b1aa7f19-fd09-4438-871c-55a4fdaa0703",
   "metadata": {},
   "outputs": [],
   "source": [
    "import pickle"
   ]
  },
  {
   "cell_type": "code",
   "execution_count": 33,
   "id": "704978ee-3bda-42e1-b843-517a15b079b9",
   "metadata": {},
   "outputs": [],
   "source": [
    "with open('zephyr_results.bin', 'wb') as f:\n",
    "    pickle.dump(results, f)"
   ]
  },
  {
   "cell_type": "code",
   "execution_count": 34,
   "id": "73b9f32e-b22f-4039-88d9-bf3599550ed9",
   "metadata": {},
   "outputs": [],
   "source": [
    "with open('results.bin', 'rb') as f_in:\n",
    "    results = pickle.load(f_in)"
   ]
  },
  {
   "cell_type": "code",
   "execution_count": 35,
   "id": "eaf2132b-2e9e-4881-bb10-053451f255a0",
   "metadata": {},
   "outputs": [
    {
     "data": {
      "text/plain": [
       "'[\"Where can I find the prerequisites for this course?\", \"How do I check the prerequisites for this course?\", \"Where are the course prerequisites listed?\", \"What are the requirements for joining this course?\", \"Where is the list of prerequisites for the course?\"]'"
      ]
     },
     "execution_count": 35,
     "metadata": {},
     "output_type": "execute_result"
    }
   ],
   "source": [
    "results['1f6520ca']"
   ]
  },
  {
   "cell_type": "code",
   "execution_count": 42,
   "id": "fe76738c-edd0-41d2-b51c-7aef4dd76775",
   "metadata": {},
   "outputs": [],
   "source": [
    "parsed_results = {}\n",
    "\n",
    "for doc_id, json_questions in results.items():\n",
    "    parsed_results[doc_id] = json.loads(json_questions)"
   ]
  },
  {
   "cell_type": "code",
   "execution_count": 38,
   "id": "7ded0b13-336f-43a1-9163-5c8cf7e1dc03",
   "metadata": {},
   "outputs": [
    {
     "name": "stdout",
     "output_type": "stream",
     "text": [
      "[\n",
      "\"How can I resolve the Docker error 'invalid mode: \\\\Program Files\\\\Git\\\\var\\\\lib\\\\postgresql\\\\data'?\",\n",
      "\"What should I do if I encounter an invalid mode error in Docker on Windows?\",\n",
      "\"What is the correct mounting path to use in Docker for PostgreSQL data on Windows?\",\n",
      "\"Can you provide an example of a correct Docker mounting path for PostgreSQL data?\",\n",
      "\"How do I correct the mounting path error in Docker for \\\\\\Program Files\\\\Git\\\\var\\\\lib\\\\postgresql\\\\data'?\"\n",
      "]\n"
     ]
    }
   ],
   "source": [
    "print(json_questions)"
   ]
  },
  {
   "cell_type": "code",
   "execution_count": 40,
   "id": "f52a5a44-e8c2-4c3d-807d-610e3ba76471",
   "metadata": {},
   "outputs": [],
   "source": [
    "json_questions = [\n",
    "r\"How can I resolve the Docker error 'invalid mode: \\Program Files\\Git\\var\\lib\\postgresql\\data'?\",\n",
    "\"What should I do if I encounter an invalid mode error in Docker on Windows?\",\n",
    "\"What is the correct mounting path to use in Docker for PostgreSQL data on Windows?\",\n",
    "\"Can you provide an example of a correct Docker mounting path for PostgreSQL data?\",\n",
    "r\"How do I correct the mounting path error in Docker for \\Program Files\\Git\\var\\lib\\postgresql\\data'?\"\n",
    "]\n"
   ]
  },
  {
   "cell_type": "code",
   "execution_count": 41,
   "id": "f99d7f5e-a949-4470-ab96-91997986f42f",
   "metadata": {},
   "outputs": [],
   "source": [
    "results[doc_id] = json.dumps(json_questions)"
   ]
  },
  {
   "cell_type": "code",
   "execution_count": null,
   "id": "d44f1f06-2b7e-4d51-80a8-28698ea48b48",
   "metadata": {},
   "outputs": [],
   "source": [
    "parsed_results"
   ]
  },
  {
   "cell_type": "code",
   "execution_count": 44,
   "id": "a3bb51b4-c86e-4bab-9c5b-b05c40e7f798",
   "metadata": {},
   "outputs": [],
   "source": [
    "doc_index = {d['id']: d for d in documents}"
   ]
  },
  {
   "cell_type": "code",
   "execution_count": 45,
   "id": "c54c845b-5f4a-41b1-904d-c0c37f6dd04e",
   "metadata": {},
   "outputs": [],
   "source": [
    "final_results = []\n",
    "\n",
    "for doc_id, questions in parsed_results.items():\n",
    "    course = doc_index[doc_id]['course']\n",
    "    for q in questions:\n",
    "        final_results.append((q, course, doc_id))"
   ]
  },
  {
   "cell_type": "code",
   "execution_count": 46,
   "id": "d90f3284-076f-4c8f-8d15-7073da59f89e",
   "metadata": {},
   "outputs": [],
   "source": [
    "import pandas as pd\n",
    "df = pd.DataFrame(final_results, columns=['question', 'course', 'document'])"
   ]
  },
  {
   "cell_type": "code",
   "execution_count": 47,
   "id": "9be7159e-9052-4c81-b20f-d13599654765",
   "metadata": {},
   "outputs": [
    {
     "data": {
      "text/html": [
       "<div>\n",
       "<style scoped>\n",
       "    .dataframe tbody tr th:only-of-type {\n",
       "        vertical-align: middle;\n",
       "    }\n",
       "\n",
       "    .dataframe tbody tr th {\n",
       "        vertical-align: top;\n",
       "    }\n",
       "\n",
       "    .dataframe thead th {\n",
       "        text-align: right;\n",
       "    }\n",
       "</style>\n",
       "<table border=\"1\" class=\"dataframe\">\n",
       "  <thead>\n",
       "    <tr style=\"text-align: right;\">\n",
       "      <th></th>\n",
       "      <th>question</th>\n",
       "      <th>course</th>\n",
       "      <th>document</th>\n",
       "    </tr>\n",
       "  </thead>\n",
       "  <tbody>\n",
       "    <tr>\n",
       "      <th>0</th>\n",
       "      <td>When does the course begin?</td>\n",
       "      <td>data-engineering-zoomcamp</td>\n",
       "      <td>c02e79ef</td>\n",
       "    </tr>\n",
       "    <tr>\n",
       "      <th>1</th>\n",
       "      <td>How can I get the course schedule?</td>\n",
       "      <td>data-engineering-zoomcamp</td>\n",
       "      <td>c02e79ef</td>\n",
       "    </tr>\n",
       "    <tr>\n",
       "      <th>2</th>\n",
       "      <td>What is the link for course registration?</td>\n",
       "      <td>data-engineering-zoomcamp</td>\n",
       "      <td>c02e79ef</td>\n",
       "    </tr>\n",
       "    <tr>\n",
       "      <th>3</th>\n",
       "      <td>How can I receive course announcements?</td>\n",
       "      <td>data-engineering-zoomcamp</td>\n",
       "      <td>c02e79ef</td>\n",
       "    </tr>\n",
       "    <tr>\n",
       "      <th>4</th>\n",
       "      <td>Where do I join the Slack channel?</td>\n",
       "      <td>data-engineering-zoomcamp</td>\n",
       "      <td>c02e79ef</td>\n",
       "    </tr>\n",
       "  </tbody>\n",
       "</table>\n",
       "</div>"
      ],
      "text/plain": [
       "                                    question                     course  \\\n",
       "0                When does the course begin?  data-engineering-zoomcamp   \n",
       "1         How can I get the course schedule?  data-engineering-zoomcamp   \n",
       "2  What is the link for course registration?  data-engineering-zoomcamp   \n",
       "3    How can I receive course announcements?  data-engineering-zoomcamp   \n",
       "4         Where do I join the Slack channel?  data-engineering-zoomcamp   \n",
       "\n",
       "   document  \n",
       "0  c02e79ef  \n",
       "1  c02e79ef  \n",
       "2  c02e79ef  \n",
       "3  c02e79ef  \n",
       "4  c02e79ef  "
      ]
     },
     "execution_count": 47,
     "metadata": {},
     "output_type": "execute_result"
    }
   ],
   "source": [
    "df.head()"
   ]
  },
  {
   "cell_type": "code",
   "execution_count": 48,
   "id": "82d7bc1a-e8ee-4af8-889a-cb274a24a79d",
   "metadata": {},
   "outputs": [],
   "source": [
    "df.to_csv('ground-truth-data.csv', index=False)"
   ]
  },
  {
   "cell_type": "code",
   "execution_count": 49,
   "id": "2d55384d-f26b-41cd-9fdb-ebcf69c9ace1",
   "metadata": {},
   "outputs": [
    {
     "name": "stdout",
     "output_type": "stream",
     "text": [
      "question,course,document\n",
      "When does the course begin?,data-engineering-zoomcamp,c02e79ef\n",
      "How can I get the course schedule?,data-engineering-zoomcamp,c02e79ef\n",
      "What is the link for course registration?,data-engineering-zoomcamp,c02e79ef\n",
      "How can I receive course announcements?,data-engineering-zoomcamp,c02e79ef\n",
      "Where do I join the Slack channel?,data-engineering-zoomcamp,c02e79ef\n",
      "Where can I find the prerequisites for this course?,data-engineering-zoomcamp,1f6520ca\n",
      "How do I check the prerequisites for this course?,data-engineering-zoomcamp,1f6520ca\n",
      "Where are the course prerequisites listed?,data-engineering-zoomcamp,1f6520ca\n",
      "What are the requirements for joining this course?,data-engineering-zoomcamp,1f6520ca\n"
     ]
    }
   ],
   "source": [
    "!head ground-truth-data.csv"
   ]
  },
  {
   "cell_type": "code",
   "execution_count": null,
   "id": "9b1f7e8c-c02a-4abb-90db-8a77bae3ddfb",
   "metadata": {},
   "outputs": [],
   "source": []
  }
 ],
 "metadata": {
  "kernelspec": {
   "display_name": "Python 3 (ipykernel)",
   "language": "python",
   "name": "python3"
  },
  "language_info": {
   "codemirror_mode": {
    "name": "ipython",
    "version": 3
   },
   "file_extension": ".py",
   "mimetype": "text/x-python",
   "name": "python",
   "nbconvert_exporter": "python",
   "pygments_lexer": "ipython3",
   "version": "3.9.6"
  }
 },
 "nbformat": 4,
 "nbformat_minor": 5
}
