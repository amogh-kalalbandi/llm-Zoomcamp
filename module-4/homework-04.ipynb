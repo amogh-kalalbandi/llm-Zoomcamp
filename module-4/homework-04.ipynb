{
 "cells": [
  {
   "cell_type": "code",
   "execution_count": 1,
   "id": "4bf50f61-663a-443c-9446-29ecf3d30a4d",
   "metadata": {},
   "outputs": [],
   "source": [
    "import pandas as pd"
   ]
  },
  {
   "cell_type": "code",
   "execution_count": 2,
   "id": "cac82a0a-41fa-44d1-9c15-40e6c34c2e6f",
   "metadata": {},
   "outputs": [
    {
     "name": "stderr",
     "output_type": "stream",
     "text": [
      "/Users/amoghkulkarni/.local/share/virtualenvs/python_practice-ZCCdr_2d/lib/python3.9/site-packages/urllib3/__init__.py:35: NotOpenSSLWarning: urllib3 v2 only supports OpenSSL 1.1.1+, currently the 'ssl' module is compiled with 'LibreSSL 2.8.3'. See: https://github.com/urllib3/urllib3/issues/3020\n",
      "  warnings.warn(\n"
     ]
    }
   ],
   "source": [
    "from sentence_transformers import SentenceTransformer"
   ]
  },
  {
   "cell_type": "code",
   "execution_count": 3,
   "id": "069969a0-76db-4f52-992f-625333b0aa3f",
   "metadata": {},
   "outputs": [],
   "source": [
    "model_name = 'multi-qa-mpnet-base-dot-v1'"
   ]
  },
  {
   "cell_type": "code",
   "execution_count": 4,
   "id": "378d7c78-d63e-438b-9add-a0cdd817d5e3",
   "metadata": {},
   "outputs": [
    {
     "data": {
      "application/vnd.jupyter.widget-view+json": {
       "model_id": "d5490fcb3e36421184f28577831c5f1b",
       "version_major": 2,
       "version_minor": 0
      },
      "text/plain": [
       "modules.json:   0%|          | 0.00/229 [00:00<?, ?B/s]"
      ]
     },
     "metadata": {},
     "output_type": "display_data"
    },
    {
     "data": {
      "application/vnd.jupyter.widget-view+json": {
       "model_id": "ff165a8508d746c989af9e5f4f06f69b",
       "version_major": 2,
       "version_minor": 0
      },
      "text/plain": [
       "config_sentence_transformers.json:   0%|          | 0.00/212 [00:00<?, ?B/s]"
      ]
     },
     "metadata": {},
     "output_type": "display_data"
    },
    {
     "name": "stderr",
     "output_type": "stream",
     "text": [
      "You try to use a model that was created with version 3.0.0.dev0, however, your version is 2.7.0. This might cause unexpected behavior or errors. In that case, try to update to the latest version.\n",
      "\n",
      "\n",
      "\n"
     ]
    },
    {
     "data": {
      "application/vnd.jupyter.widget-view+json": {
       "model_id": "d06ce6ef12db41f7b966bc0da5d5863c",
       "version_major": 2,
       "version_minor": 0
      },
      "text/plain": [
       "README.md:   0%|          | 0.00/8.71k [00:00<?, ?B/s]"
      ]
     },
     "metadata": {},
     "output_type": "display_data"
    },
    {
     "data": {
      "application/vnd.jupyter.widget-view+json": {
       "model_id": "bf7a45ce1ade4685a3f62028a5829a47",
       "version_major": 2,
       "version_minor": 0
      },
      "text/plain": [
       "sentence_bert_config.json:   0%|          | 0.00/53.0 [00:00<?, ?B/s]"
      ]
     },
     "metadata": {},
     "output_type": "display_data"
    },
    {
     "data": {
      "application/vnd.jupyter.widget-view+json": {
       "model_id": "e4316077cf094af58952ca9801fa5b3d",
       "version_major": 2,
       "version_minor": 0
      },
      "text/plain": [
       "config.json:   0%|          | 0.00/571 [00:00<?, ?B/s]"
      ]
     },
     "metadata": {},
     "output_type": "display_data"
    },
    {
     "data": {
      "application/vnd.jupyter.widget-view+json": {
       "model_id": "a5b89002b39c43a1928278b3e710e4d6",
       "version_major": 2,
       "version_minor": 0
      },
      "text/plain": [
       "model.safetensors:   0%|          | 0.00/438M [00:00<?, ?B/s]"
      ]
     },
     "metadata": {},
     "output_type": "display_data"
    },
    {
     "data": {
      "application/vnd.jupyter.widget-view+json": {
       "model_id": "3b5901d5165c4be8b1281a290c604091",
       "version_major": 2,
       "version_minor": 0
      },
      "text/plain": [
       "tokenizer_config.json:   0%|          | 0.00/363 [00:00<?, ?B/s]"
      ]
     },
     "metadata": {},
     "output_type": "display_data"
    },
    {
     "data": {
      "application/vnd.jupyter.widget-view+json": {
       "model_id": "e5ebc39e446b4685bf913d1eccce985b",
       "version_major": 2,
       "version_minor": 0
      },
      "text/plain": [
       "vocab.txt:   0%|          | 0.00/232k [00:00<?, ?B/s]"
      ]
     },
     "metadata": {},
     "output_type": "display_data"
    },
    {
     "data": {
      "application/vnd.jupyter.widget-view+json": {
       "model_id": "dcdf2dbc855748fea571e6e6432d01ca",
       "version_major": 2,
       "version_minor": 0
      },
      "text/plain": [
       "tokenizer.json:   0%|          | 0.00/466k [00:00<?, ?B/s]"
      ]
     },
     "metadata": {},
     "output_type": "display_data"
    },
    {
     "data": {
      "application/vnd.jupyter.widget-view+json": {
       "model_id": "974b8a4abc59405cae9d377566b1246b",
       "version_major": 2,
       "version_minor": 0
      },
      "text/plain": [
       "special_tokens_map.json:   0%|          | 0.00/239 [00:00<?, ?B/s]"
      ]
     },
     "metadata": {},
     "output_type": "display_data"
    },
    {
     "data": {
      "application/vnd.jupyter.widget-view+json": {
       "model_id": "a4763da3c1f74c938955c59cf3eb0ef6",
       "version_major": 2,
       "version_minor": 0
      },
      "text/plain": [
       "1_Pooling/config.json:   0%|          | 0.00/190 [00:00<?, ?B/s]"
      ]
     },
     "metadata": {},
     "output_type": "display_data"
    }
   ],
   "source": [
    "embedding_model = SentenceTransformer(model_name)"
   ]
  },
  {
   "cell_type": "code",
   "execution_count": 5,
   "id": "17d8fa1e-551a-4d1a-92e5-52fc5ac73fc9",
   "metadata": {},
   "outputs": [],
   "source": [
    "gpt_4o_mini_df = pd.read_csv('results-gpt4o-mini.csv')"
   ]
  },
  {
   "cell_type": "code",
   "execution_count": 7,
   "id": "6be290f5-14ff-44a3-ace8-c451598886e0",
   "metadata": {},
   "outputs": [],
   "source": [
    "answer_llm = gpt_4o_mini_df.iloc[0].answer_llm"
   ]
  },
  {
   "cell_type": "code",
   "execution_count": 8,
   "id": "6c116761-8047-45da-b2a1-545cdec10d92",
   "metadata": {},
   "outputs": [
    {
     "data": {
      "text/plain": [
       "'You can sign up for the course by visiting the course page at [http://mlzoomcamp.com/](http://mlzoomcamp.com/).'"
      ]
     },
     "execution_count": 8,
     "metadata": {},
     "output_type": "execute_result"
    }
   ],
   "source": [
    "answer_llm"
   ]
  },
  {
   "cell_type": "code",
   "execution_count": 9,
   "id": "9916b3f3-69cb-4136-b086-8e39749c5fc9",
   "metadata": {},
   "outputs": [],
   "source": [
    "answer_embedding = embedding_model.encode(answer_llm)"
   ]
  },
  {
   "cell_type": "code",
   "execution_count": 10,
   "id": "79897bef-7669-4f8c-9f35-5fab68ecd169",
   "metadata": {},
   "outputs": [
    {
     "data": {
      "text/plain": [
       "768"
      ]
     },
     "execution_count": 10,
     "metadata": {},
     "output_type": "execute_result"
    }
   ],
   "source": [
    "len(answer_embedding)"
   ]
  },
  {
   "cell_type": "code",
   "execution_count": 11,
   "id": "8b4b14f0-96bd-4cc4-8b0c-ff3814b5b71a",
   "metadata": {},
   "outputs": [
    {
     "data": {
      "text/plain": [
       "-0.42244664"
      ]
     },
     "execution_count": 11,
     "metadata": {},
     "output_type": "execute_result"
    }
   ],
   "source": [
    "answer_embedding[0]"
   ]
  },
  {
   "cell_type": "code",
   "execution_count": 22,
   "id": "c21287b8-0528-4fe0-bd6f-76fd46f1bada",
   "metadata": {},
   "outputs": [],
   "source": [
    "evaluations = []"
   ]
  },
  {
   "cell_type": "code",
   "execution_count": 18,
   "id": "0842386a-fa7a-4baa-a8a5-9212594a4d1b",
   "metadata": {},
   "outputs": [],
   "source": [
    "gpt_4o_mini_df = gpt_4o_mini_df.iloc[:300]"
   ]
  },
  {
   "cell_type": "code",
   "execution_count": 19,
   "id": "25cfba28-56c3-43ea-b77b-fcf8a9b3afe0",
   "metadata": {},
   "outputs": [],
   "source": [
    "gpt_40_results = gpt_4o_mini_df.to_dict(orient='records')"
   ]
  },
  {
   "cell_type": "code",
   "execution_count": 15,
   "id": "9f11c00f-4e47-482f-80ac-fa6841be0d9c",
   "metadata": {},
   "outputs": [
    {
     "data": {
      "text/plain": [
       "{'answer_llm': 'You can sign up for the course by visiting the course page at [http://mlzoomcamp.com/](http://mlzoomcamp.com/).',\n",
       " 'answer_orig': 'Machine Learning Zoomcamp FAQ\\nThe purpose of this document is to capture frequently asked technical questions.\\nWe did this for our data engineering course and it worked quite well. Check this document for inspiration on how to structure your questions and answers:\\nData Engineering Zoomcamp FAQ\\nIn the course GitHub repository there’s a link. Here it is: https://airtable.com/shryxwLd0COOEaqXo\\nwork',\n",
       " 'document': '0227b872',\n",
       " 'question': 'Where can I sign up for the course?',\n",
       " 'course': 'machine-learning-zoomcamp'}"
      ]
     },
     "execution_count": 15,
     "metadata": {},
     "output_type": "execute_result"
    }
   ],
   "source": [
    "gpt_40_results[0]"
   ]
  },
  {
   "cell_type": "code",
   "execution_count": 16,
   "id": "5b560b90-0305-4ac5-897e-aa66deed5e72",
   "metadata": {},
   "outputs": [],
   "source": [
    "from tqdm.auto import tqdm"
   ]
  },
  {
   "cell_type": "code",
   "execution_count": 23,
   "id": "b69d73f5-3b46-4d92-a031-1aff4f45f36e",
   "metadata": {},
   "outputs": [
    {
     "data": {
      "application/vnd.jupyter.widget-view+json": {
       "model_id": "26e2f999e6c641049f68633e106f26ed",
       "version_major": 2,
       "version_minor": 0
      },
      "text/plain": [
       "  0%|          | 0/300 [00:00<?, ?it/s]"
      ]
     },
     "metadata": {},
     "output_type": "display_data"
    }
   ],
   "source": [
    "for each_item in tqdm(gpt_40_results):\n",
    "    llm_embed = embedding_model.encode(each_item['answer_llm'])\n",
    "    orig_embed = embedding_model.encode(each_item['answer_orig'])\n",
    "\n",
    "    evaluations.append(llm_embed.dot(orig_embed))"
   ]
  },
  {
   "cell_type": "code",
   "execution_count": 24,
   "id": "df238ece-b0f5-4c67-b455-83bff044d23a",
   "metadata": {},
   "outputs": [
    {
     "data": {
      "text/plain": [
       "300"
      ]
     },
     "execution_count": 24,
     "metadata": {},
     "output_type": "execute_result"
    }
   ],
   "source": [
    "len(evaluations)"
   ]
  },
  {
   "cell_type": "code",
   "execution_count": 25,
   "id": "9b5e4ad0-7d0d-4e9c-adf5-81c4c7815437",
   "metadata": {},
   "outputs": [
    {
     "name": "stderr",
     "output_type": "stream",
     "text": [
      "/var/folders/zw/mqwlds_s7ml5_fvqptkb174h0000gn/T/ipykernel_20355/1776927725.py:1: SettingWithCopyWarning: \n",
      "A value is trying to be set on a copy of a slice from a DataFrame.\n",
      "Try using .loc[row_indexer,col_indexer] = value instead\n",
      "\n",
      "See the caveats in the documentation: https://pandas.pydata.org/pandas-docs/stable/user_guide/indexing.html#returning-a-view-versus-a-copy\n",
      "  gpt_4o_mini_df['evaluation'] = evaluations\n"
     ]
    }
   ],
   "source": [
    "gpt_4o_mini_df['evaluation'] = evaluations"
   ]
  },
  {
   "cell_type": "code",
   "execution_count": 27,
   "id": "a0d94bc1-6adf-493d-af57-a5eec019cf1c",
   "metadata": {},
   "outputs": [
    {
     "data": {
      "text/plain": [
       "31.674302101135254"
      ]
     },
     "execution_count": 27,
     "metadata": {},
     "output_type": "execute_result"
    }
   ],
   "source": [
    "gpt_4o_mini_df['evaluation'].quantile(0.75)"
   ]
  },
  {
   "cell_type": "code",
   "execution_count": 28,
   "id": "4915b2bc-1390-4921-85c3-9baceba15543",
   "metadata": {},
   "outputs": [],
   "source": [
    "import numpy as np"
   ]
  },
  {
   "cell_type": "code",
   "execution_count": 33,
   "id": "1bbc0506-6b85-47a6-8916-c5e4d75c11d0",
   "metadata": {},
   "outputs": [],
   "source": [
    "norm = np.sqrt((evaluations.dot(evaluations).sum())"
   ]
  },
  {
   "cell_type": "code",
   "execution_count": 36,
   "id": "a138b386-c067-4c41-b567-645a2cba034d",
   "metadata": {},
   "outputs": [
    {
     "ename": "AttributeError",
     "evalue": "'list' object has no attribute 'dot'",
     "output_type": "error",
     "traceback": [
      "\u001b[0;31m---------------------------------------------------------------------------\u001b[0m",
      "\u001b[0;31mAttributeError\u001b[0m                            Traceback (most recent call last)",
      "Cell \u001b[0;32mIn[36], line 1\u001b[0m\n\u001b[0;32m----> 1\u001b[0m \u001b[43mevaluations\u001b[49m\u001b[38;5;241;43m.\u001b[39;49m\u001b[43mdot\u001b[49m(evaluations)\n",
      "\u001b[0;31mAttributeError\u001b[0m: 'list' object has no attribute 'dot'"
     ]
    }
   ],
   "source": []
  },
  {
   "cell_type": "code",
   "execution_count": 37,
   "id": "ff642bf8-f250-4971-81c9-c8e86559877b",
   "metadata": {},
   "outputs": [],
   "source": [
    "v1 = embedding_model.encode(gpt_40_results[0]['answer_llm'])"
   ]
  },
  {
   "cell_type": "code",
   "execution_count": 38,
   "id": "b1830706-6974-4b1e-ae62-52fdb030cff4",
   "metadata": {},
   "outputs": [
    {
     "data": {
      "text/plain": [
       "5.900879"
      ]
     },
     "execution_count": 38,
     "metadata": {},
     "output_type": "execute_result"
    }
   ],
   "source": [
    "np.sqrt((v1 * v1).sum())"
   ]
  },
  {
   "cell_type": "code",
   "execution_count": 40,
   "id": "c212af2a-3cb8-4f7b-bad9-3dbfbdbc4b9b",
   "metadata": {},
   "outputs": [],
   "source": [
    "evaluations_array = np.array(evaluations)"
   ]
  },
  {
   "cell_type": "code",
   "execution_count": 43,
   "id": "9ca5f856-70ab-4d1d-a402-b1c04c6257c3",
   "metadata": {},
   "outputs": [],
   "source": [
    "norm = np.sqrt((evaluations_array * evaluations_array).sum())"
   ]
  },
  {
   "cell_type": "code",
   "execution_count": 50,
   "id": "a1341391-205c-446e-b9c5-5488c5d7d2ab",
   "metadata": {},
   "outputs": [
    {
     "data": {
      "text/plain": [
       "list"
      ]
     },
     "execution_count": 50,
     "metadata": {},
     "output_type": "execute_result"
    }
   ],
   "source": [
    "type(evaluations)"
   ]
  },
  {
   "cell_type": "code",
   "execution_count": 46,
   "id": "0dec4a4e-86cc-4232-9211-37b3a2d50cb1",
   "metadata": {},
   "outputs": [
    {
     "name": "stderr",
     "output_type": "stream",
     "text": [
      "/var/folders/zw/mqwlds_s7ml5_fvqptkb174h0000gn/T/ipykernel_20355/2337137279.py:1: SettingWithCopyWarning: \n",
      "A value is trying to be set on a copy of a slice from a DataFrame.\n",
      "Try using .loc[row_indexer,col_indexer] = value instead\n",
      "\n",
      "See the caveats in the documentation: https://pandas.pydata.org/pandas-docs/stable/user_guide/indexing.html#returning-a-view-versus-a-copy\n",
      "  gpt_4o_mini_df['evaluation_new'] = gpt_4o_mini_df['evaluation'] / norm\n"
     ]
    }
   ],
   "source": [
    "gpt_4o_mini_df['evaluation_new'] = gpt_4o_mini_df['evaluation'] / norm"
   ]
  },
  {
   "cell_type": "code",
   "execution_count": 48,
   "id": "47b17966-2da5-40d0-8d06-b9c4020db9f4",
   "metadata": {},
   "outputs": [
    {
     "data": {
      "text/plain": [
       "0.06479034014046192"
      ]
     },
     "execution_count": 48,
     "metadata": {},
     "output_type": "execute_result"
    }
   ],
   "source": [
    "gpt_4o_mini_df['evaluation_new'].quantile(0.75)"
   ]
  },
  {
   "cell_type": "code",
   "execution_count": 52,
   "id": "6be86dc2-0260-429c-83b4-c744d51d3bd4",
   "metadata": {},
   "outputs": [],
   "source": [
    "evaluations_normalized = []"
   ]
  },
  {
   "cell_type": "code",
   "execution_count": 53,
   "id": "b63f9726-feef-4952-b4b4-55b18bcce753",
   "metadata": {},
   "outputs": [
    {
     "data": {
      "application/vnd.jupyter.widget-view+json": {
       "model_id": "9c5fdf5abce847f3b2def651cc3ecc1c",
       "version_major": 2,
       "version_minor": 0
      },
      "text/plain": [
       "  0%|          | 0/300 [00:00<?, ?it/s]"
      ]
     },
     "metadata": {},
     "output_type": "display_data"
    }
   ],
   "source": [
    "for each_item in tqdm(gpt_40_results):\n",
    "    llm_embed = embedding_model.encode(each_item['answer_llm'])\n",
    "    llm_embed_array = np.array(llm_embed)\n",
    "    llm_embed_norm = np.sqrt((llm_embed_array * llm_embed_array).sum())\n",
    "    llm_embed = llm_embed / llm_embed_norm\n",
    "\n",
    "    orig_embed = embedding_model.encode(each_item['answer_orig'])\n",
    "    orig_embed_array = np.array(orig_embed)\n",
    "    orig_embed_norm = np.sqrt((orig_embed_array * orig_embed_array).sum())\n",
    "    orig_embed = orig_embed / orig_embed_norm\n",
    "\n",
    "    evaluations_normalized.append(llm_embed.dot(orig_embed))"
   ]
  },
  {
   "cell_type": "code",
   "execution_count": 54,
   "id": "3619579e-c125-42b7-8adf-9b42e84ff62e",
   "metadata": {},
   "outputs": [
    {
     "data": {
      "text/plain": [
       "[0.5067543, 0.38854897, 0.7185991, 0.33726633, 0.5217922]"
      ]
     },
     "execution_count": 54,
     "metadata": {},
     "output_type": "execute_result"
    }
   ],
   "source": [
    "evaluations_normalized[:5]"
   ]
  },
  {
   "cell_type": "code",
   "execution_count": 55,
   "id": "77881c55-9ddb-4e13-b2f3-873de73c83a8",
   "metadata": {},
   "outputs": [
    {
     "name": "stderr",
     "output_type": "stream",
     "text": [
      "/var/folders/zw/mqwlds_s7ml5_fvqptkb174h0000gn/T/ipykernel_20355/3749032999.py:1: SettingWithCopyWarning: \n",
      "A value is trying to be set on a copy of a slice from a DataFrame.\n",
      "Try using .loc[row_indexer,col_indexer] = value instead\n",
      "\n",
      "See the caveats in the documentation: https://pandas.pydata.org/pandas-docs/stable/user_guide/indexing.html#returning-a-view-versus-a-copy\n",
      "  gpt_4o_mini_df['evaluation_norm'] = evaluations_normalized\n"
     ]
    }
   ],
   "source": [
    "gpt_4o_mini_df['evaluation_norm'] = evaluations_normalized"
   ]
  },
  {
   "cell_type": "code",
   "execution_count": 57,
   "id": "08f33430-f975-4adb-aa92-4ae511387bbe",
   "metadata": {},
   "outputs": [
    {
     "data": {
      "text/plain": [
       "0.8362347185611725"
      ]
     },
     "execution_count": 57,
     "metadata": {},
     "output_type": "execute_result"
    }
   ],
   "source": [
    "gpt_4o_mini_df['evaluation_norm'].quantile(0.75)"
   ]
  },
  {
   "cell_type": "code",
   "execution_count": 58,
   "id": "e1f61c39-9966-4cc6-b5e9-ddcaaf73c15c",
   "metadata": {},
   "outputs": [],
   "source": [
    "from rouge import Rouge"
   ]
  },
  {
   "cell_type": "code",
   "execution_count": 59,
   "id": "a05aa57f-5bf4-4585-a106-231db919cd32",
   "metadata": {},
   "outputs": [],
   "source": [
    "rouge_scorer = Rouge()"
   ]
  },
  {
   "cell_type": "code",
   "execution_count": 78,
   "id": "ac25546b-0139-4828-b049-adf0ecd1a855",
   "metadata": {},
   "outputs": [],
   "source": [
    "row = gpt_4o_mini_df.iloc[11]"
   ]
  },
  {
   "cell_type": "code",
   "execution_count": 79,
   "id": "9c5369e1-6add-46dc-bca9-5ff5b06662f0",
   "metadata": {},
   "outputs": [],
   "source": [
    "scores = rouge_scorer.get_scores(row['answer_llm'], row['answer_orig'])[0]"
   ]
  },
  {
   "cell_type": "code",
   "execution_count": 80,
   "id": "159b9355-1e11-4053-828f-7f3da84a9204",
   "metadata": {},
   "outputs": [
    {
     "data": {
      "text/plain": [
       "{'rouge-1': {'r': 0.6060606060606061,\n",
       "  'p': 0.6060606060606061,\n",
       "  'f': 0.6060606010606061},\n",
       " 'rouge-2': {'r': 0.43243243243243246,\n",
       "  'p': 0.41025641025641024,\n",
       "  'f': 0.42105262658241},\n",
       " 'rouge-l': {'r': 0.5757575757575758,\n",
       "  'p': 0.5757575757575758,\n",
       "  'f': 0.5757575707575758}}"
      ]
     },
     "execution_count": 80,
     "metadata": {},
     "output_type": "execute_result"
    }
   ],
   "source": [
    "scores"
   ]
  },
  {
   "cell_type": "code",
   "execution_count": 66,
   "id": "12556107-f555-48d2-add0-4181b379f8f8",
   "metadata": {},
   "outputs": [],
   "source": [
    "f_scores = []\n",
    "for each in scores:\n",
    "    f_scores.append(scores[each]['f'])"
   ]
  },
  {
   "cell_type": "code",
   "execution_count": 69,
   "id": "975d1932-e7e0-4dea-bb5b-deebe76cab18",
   "metadata": {},
   "outputs": [
    {
     "data": {
      "text/plain": [
       "0.35490034990035496"
      ]
     },
     "execution_count": 69,
     "metadata": {},
     "output_type": "execute_result"
    }
   ],
   "source": [
    "sum(f_scores) / len(f_scores)"
   ]
  },
  {
   "cell_type": "code",
   "execution_count": 81,
   "id": "4430662f-4173-4d1c-b2ce-38ad09857496",
   "metadata": {},
   "outputs": [],
   "source": [
    "rouge_scores_list = []"
   ]
  },
  {
   "cell_type": "code",
   "execution_count": 73,
   "id": "1212b1ba-38ef-450b-8301-304580b5f9af",
   "metadata": {},
   "outputs": [
    {
     "name": "stdout",
     "output_type": "stream",
     "text": [
      "rouge-1-r - 0.45454545454545453\n",
      "rouge-1-p - 0.45454545454545453\n",
      "rouge-1-f - 0.45454544954545456\n",
      "rouge-2-r - 0.21621621621621623\n",
      "rouge-2-p - 0.21621621621621623\n",
      "rouge-2-f - 0.21621621121621637\n",
      "rouge-l-r - 0.3939393939393939\n",
      "rouge-l-p - 0.3939393939393939\n",
      "rouge-l-f - 0.393939388939394\n"
     ]
    }
   ],
   "source": [
    "for rouge in scores:\n",
    "    for each_value in scores[rouge]:\n",
    "        rouge_key = f'{rouge}-{each_value}'\n",
    "        rouge_value = scores[rouge][each_value]\n",
    "        print(f'{rouge_key} - {rouge_value}')"
   ]
  },
  {
   "cell_type": "code",
   "execution_count": 84,
   "id": "867058c4-7947-4839-a5af-156e75ec45c4",
   "metadata": {},
   "outputs": [
    {
     "data": {
      "application/vnd.jupyter.widget-view+json": {
       "model_id": "ab9df6f24ef441fb8d3fc31f987281af",
       "version_major": 2,
       "version_minor": 0
      },
      "text/plain": [
       "  0%|          | 0/300 [00:00<?, ?it/s]"
      ]
     },
     "metadata": {},
     "output_type": "display_data"
    }
   ],
   "source": [
    "for each_record in tqdm(gpt_40_results):\n",
    "    temp_rouge_score = {\n",
    "        'document': each_record['document']\n",
    "    }\n",
    "    scores = rouge_scorer.get_scores(each_record['answer_llm'], each_record['answer_orig'])[0]\n",
    "    for rouge in scores:\n",
    "        for each_value in scores[rouge]:\n",
    "            rouge_key = f'{rouge}-{each_value}'\n",
    "            rouge_value = scores[rouge][each_value]\n",
    "            temp_rouge_score.update({ rouge_key: rouge_value })\n",
    "    rouge_scores_list.append(temp_rouge_score)"
   ]
  },
  {
   "cell_type": "code",
   "execution_count": 86,
   "id": "d57ec8c6-c134-4833-9c4c-8d3e186df5e8",
   "metadata": {},
   "outputs": [],
   "source": [
    "rouge_values_df = pd.DataFrame(rouge_scores_list)"
   ]
  },
  {
   "cell_type": "code",
   "execution_count": 91,
   "id": "d365df73-45b2-4bd2-983d-8471c895e0d5",
   "metadata": {},
   "outputs": [
    {
     "data": {
      "text/html": [
       "<div>\n",
       "<style scoped>\n",
       "    .dataframe tbody tr th:only-of-type {\n",
       "        vertical-align: middle;\n",
       "    }\n",
       "\n",
       "    .dataframe tbody tr th {\n",
       "        vertical-align: top;\n",
       "    }\n",
       "\n",
       "    .dataframe thead th {\n",
       "        text-align: right;\n",
       "    }\n",
       "</style>\n",
       "<table border=\"1\" class=\"dataframe\">\n",
       "  <thead>\n",
       "    <tr style=\"text-align: right;\">\n",
       "      <th></th>\n",
       "      <th>rouge-1-r</th>\n",
       "      <th>rouge-1-p</th>\n",
       "      <th>rouge-1-f</th>\n",
       "      <th>rouge-2-r</th>\n",
       "      <th>rouge-2-p</th>\n",
       "      <th>rouge-2-f</th>\n",
       "      <th>rouge-l-r</th>\n",
       "      <th>rouge-l-p</th>\n",
       "      <th>rouge-l-f</th>\n",
       "    </tr>\n",
       "  </thead>\n",
       "  <tbody>\n",
       "    <tr>\n",
       "      <th>count</th>\n",
       "      <td>300.000000</td>\n",
       "      <td>300.000000</td>\n",
       "      <td>300.000000</td>\n",
       "      <td>300.000000</td>\n",
       "      <td>300.000000</td>\n",
       "      <td>300.000000</td>\n",
       "      <td>300.000000</td>\n",
       "      <td>300.000000</td>\n",
       "      <td>300.000000</td>\n",
       "    </tr>\n",
       "    <tr>\n",
       "      <th>mean</th>\n",
       "      <td>0.357817</td>\n",
       "      <td>0.472618</td>\n",
       "      <td>0.378844</td>\n",
       "      <td>0.198613</td>\n",
       "      <td>0.258626</td>\n",
       "      <td>0.206965</td>\n",
       "      <td>0.334597</td>\n",
       "      <td>0.440623</td>\n",
       "      <td>0.353807</td>\n",
       "    </tr>\n",
       "    <tr>\n",
       "      <th>std</th>\n",
       "      <td>0.182520</td>\n",
       "      <td>0.194116</td>\n",
       "      <td>0.165977</td>\n",
       "      <td>0.164964</td>\n",
       "      <td>0.174559</td>\n",
       "      <td>0.153550</td>\n",
       "      <td>0.177885</td>\n",
       "      <td>0.189329</td>\n",
       "      <td>0.162965</td>\n",
       "    </tr>\n",
       "    <tr>\n",
       "      <th>min</th>\n",
       "      <td>0.000000</td>\n",
       "      <td>0.000000</td>\n",
       "      <td>0.000000</td>\n",
       "      <td>0.000000</td>\n",
       "      <td>0.000000</td>\n",
       "      <td>0.000000</td>\n",
       "      <td>0.000000</td>\n",
       "      <td>0.000000</td>\n",
       "      <td>0.000000</td>\n",
       "    </tr>\n",
       "    <tr>\n",
       "      <th>25%</th>\n",
       "      <td>0.220668</td>\n",
       "      <td>0.357143</td>\n",
       "      <td>0.261625</td>\n",
       "      <td>0.074632</td>\n",
       "      <td>0.138093</td>\n",
       "      <td>0.097809</td>\n",
       "      <td>0.199180</td>\n",
       "      <td>0.326420</td>\n",
       "      <td>0.228032</td>\n",
       "    </tr>\n",
       "    <tr>\n",
       "      <th>50%</th>\n",
       "      <td>0.341784</td>\n",
       "      <td>0.485281</td>\n",
       "      <td>0.378762</td>\n",
       "      <td>0.159075</td>\n",
       "      <td>0.230769</td>\n",
       "      <td>0.178671</td>\n",
       "      <td>0.317073</td>\n",
       "      <td>0.440000</td>\n",
       "      <td>0.337792</td>\n",
       "    </tr>\n",
       "    <tr>\n",
       "      <th>75%</th>\n",
       "      <td>0.470588</td>\n",
       "      <td>0.600000</td>\n",
       "      <td>0.479281</td>\n",
       "      <td>0.260995</td>\n",
       "      <td>0.335366</td>\n",
       "      <td>0.286181</td>\n",
       "      <td>0.440656</td>\n",
       "      <td>0.567045</td>\n",
       "      <td>0.451613</td>\n",
       "    </tr>\n",
       "    <tr>\n",
       "      <th>max</th>\n",
       "      <td>0.896552</td>\n",
       "      <td>1.000000</td>\n",
       "      <td>0.850000</td>\n",
       "      <td>0.805556</td>\n",
       "      <td>1.000000</td>\n",
       "      <td>0.739130</td>\n",
       "      <td>0.896552</td>\n",
       "      <td>1.000000</td>\n",
       "      <td>0.850000</td>\n",
       "    </tr>\n",
       "  </tbody>\n",
       "</table>\n",
       "</div>"
      ],
      "text/plain": [
       "        rouge-1-r   rouge-1-p   rouge-1-f   rouge-2-r   rouge-2-p   rouge-2-f  \\\n",
       "count  300.000000  300.000000  300.000000  300.000000  300.000000  300.000000   \n",
       "mean     0.357817    0.472618    0.378844    0.198613    0.258626    0.206965   \n",
       "std      0.182520    0.194116    0.165977    0.164964    0.174559    0.153550   \n",
       "min      0.000000    0.000000    0.000000    0.000000    0.000000    0.000000   \n",
       "25%      0.220668    0.357143    0.261625    0.074632    0.138093    0.097809   \n",
       "50%      0.341784    0.485281    0.378762    0.159075    0.230769    0.178671   \n",
       "75%      0.470588    0.600000    0.479281    0.260995    0.335366    0.286181   \n",
       "max      0.896552    1.000000    0.850000    0.805556    1.000000    0.739130   \n",
       "\n",
       "        rouge-l-r   rouge-l-p   rouge-l-f  \n",
       "count  300.000000  300.000000  300.000000  \n",
       "mean     0.334597    0.440623    0.353807  \n",
       "std      0.177885    0.189329    0.162965  \n",
       "min      0.000000    0.000000    0.000000  \n",
       "25%      0.199180    0.326420    0.228032  \n",
       "50%      0.317073    0.440000    0.337792  \n",
       "75%      0.440656    0.567045    0.451613  \n",
       "max      0.896552    1.000000    0.850000  "
      ]
     },
     "execution_count": 91,
     "metadata": {},
     "output_type": "execute_result"
    }
   ],
   "source": [
    "rouge_values_df.describe()"
   ]
  },
  {
   "cell_type": "code",
   "execution_count": null,
   "id": "399778e4-8f53-49b3-bf52-8ee69ad9a0ee",
   "metadata": {},
   "outputs": [],
   "source": []
  }
 ],
 "metadata": {
  "kernelspec": {
   "display_name": "Python 3 (ipykernel)",
   "language": "python",
   "name": "python3"
  },
  "language_info": {
   "codemirror_mode": {
    "name": "ipython",
    "version": 3
   },
   "file_extension": ".py",
   "mimetype": "text/x-python",
   "name": "python",
   "nbconvert_exporter": "python",
   "pygments_lexer": "ipython3",
   "version": "3.9.6"
  }
 },
 "nbformat": 4,
 "nbformat_minor": 5
}
